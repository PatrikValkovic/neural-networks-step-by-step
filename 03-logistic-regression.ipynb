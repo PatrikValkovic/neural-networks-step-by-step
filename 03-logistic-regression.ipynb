{
 "cells": [
  {
   "cell_type": "code",
   "execution_count": 2,
   "metadata": {},
   "outputs": [],
   "source": [
    "%config IPCompleter.greedy=True\n",
    "\n",
    "import numpy as np\n",
    "import matplotlib.pyplot as plt\n",
    "import sklearn.datasets, sklearn.preprocessing, sklearn.model_selection"
   ]
  },
  {
   "cell_type": "markdown",
   "metadata": {},
   "source": [
    "# Prerequisites\n",
    "\n",
    "In this and in the following chapters I will assume, that you have at least fundamental knowledge about probabilities and mathematical analysis. It is not point of this project to teach you probability nor mathematical analysis, there are plenty of resources online that you can get the knowledge required.\n",
    "\n",
    "I will denote $P(X=x)$ as probability, that variable $X$ has value $x$, especially $P(f(x)=ti)$ denotes probablity, that prediction (denoted by $f$ function) predicts correct (target) value $t$ for record $x$. Most of the time, we are interested in prediction over the whole dataset (set of data points), so I will denote $x_i$ as *i*-th datapoint and $t_i$ it's target (the value that should the estimator predict). Put it together, I will use $P(f(x_i)=t_i)$ most of the time.\n",
    "\n",
    "From the mathematical analysis of view, I will denote $f(x)$ function of one variable $x$, $f(x_1,x_2,\\dots,x_n)$ function of $n$ variables named $x_1, x_2, \\dots, x_n$ or simply $f(\\pmb{x})$ where $\\pmb{x}$ is vector of parameters $\\pmb{x}=(x_1,x_2,\\dots,x_n)$.\n",
    "\n",
    "Moreover, I will denote $f'(x)$ as derivative of $f$ by its only variable $x$ and $\\frac{\\partial f(\\pmb{x})}{\\partial x_k}$ as partial derivation of function $f$ (multi parametric) by parameter $x_k$. "
   ]
  },
  {
   "cell_type": "markdown",
   "metadata": {},
   "source": [
    "# Probability prediction"
   ]
  }
 ],
 "metadata": {
  "kernelspec": {
   "display_name": "Python 3",
   "language": "python",
   "name": "python3"
  },
  "language_info": {
   "codemirror_mode": {
    "name": "ipython",
    "version": 3
   },
   "file_extension": ".py",
   "mimetype": "text/x-python",
   "name": "python",
   "nbconvert_exporter": "python",
   "pygments_lexer": "ipython3",
   "version": "3.7.5"
  }
 },
 "nbformat": 4,
 "nbformat_minor": 2
}
