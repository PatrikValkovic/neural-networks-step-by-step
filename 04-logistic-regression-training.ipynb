{
 "cells": [
  {
   "cell_type": "code",
   "execution_count": 113,
   "metadata": {},
   "outputs": [],
   "source": [
    "%config IPCompleter.greedy=True\n",
    "\n",
    "import numpy as np\n",
    "import matplotlib.pyplot as plt\n",
    "import sklearn.preprocessing, sklearn.datasets\n",
    "import timeit"
   ]
  },
  {
   "cell_type": "markdown",
   "metadata": {},
   "source": [
    "In the previous chapter I introduces logistic regression and how it make prediction. I as well pointed out, that unlike Perceptron, logistic regression returns probability of datapoints belongs to specific class. However, I didn't mention the training algorithm for it. That would be content of this chapter.\n",
    "\n",
    "I also demonstrated gradient descent algorithm in the second half of the previous chapter. There will be no surprise, that the gradient descent is the exact algorithm we are going to use in this chapter to train logistic regression."
   ]
  },
  {
   "cell_type": "markdown",
   "metadata": {},
   "source": [
    "# Logistic regression training\n",
    "\n",
    "We now should have all the knowledge we need to train logistic regression. For reminder, prediction of the logistic regression is following:\n",
    "\n",
    "$$\n",
    "f(\\pmb{x})=\\frac{1}{1+e^{-\\pmb{x}\\pmb{w}^T}}\n",
    "$$\n",
    "\n",
    "In able to use gradient descent, we need some function, that the algorithm is going to optimize. Thats why I showed loss function. When we plug it in, we obtain the following formula.\n",
    "\n",
    "$$\n",
    "\\mathcal{L}=\\frac{1}{2} \\sum_{i=0}^{n} \\left( t_i - f(\\pmb{x_i}) \\right)^2 = \\frac{1}{2} \\sum_{i=0}^{n} \\left( t_i - \\frac{1}{1+e^{-\\pmb{x}\\pmb{w}^T}} \\right)^2\n",
    "$$\n",
    "\n",
    "Now we want to update the weights, so we need to compute gradient of loss function in respect to weight (and we need to compute it for every weights). In this case, we can use the chain rule.\n",
    "\n",
    "$$\n",
    "\\frac{\\partial \\mathcal{L}}{\\partial w_i} = \\frac{\\partial \\mathcal{L}}{\\partial f(\\pmb{x})} \\cdot \\frac{\\partial f(\\pmb{x})}{\\partial \\pmb{x}\\pmb{w}^T} \\cdot \\frac{\\partial \\pmb{x}\\pmb{w}^T}{\\partial w_i}\n",
    "$$\n",
    "\n",
    "Then the gradient is easy to obtain (note that I mark $\\sigma(x)$ as the sigmoid function, i.e. $\\sigma(x)=\\frac{1}{1+e^{-x}}$ and $y_i$ as the prediction of the model, i.e. $y_i = \\sigma(\\pmb{x}\\pmb{w}^T)$.\n",
    "\n",
    "$$\\\n",
    "\\frac{\\partial \\mathcal{L}}{\\partial w_i} = (t_i - y_i) \\cdot -\\sigma(\\pmb{x}\\pmb{w}^T)\\left( 1 - \\sigma(\\pmb{x}\\pmb{w}^T) \\right) \\cdot x_i\n",
    "$$\n",
    "\n",
    "> Note the minus in the second multiple. Because in the loss is $t_i - f(\\pmb{x})$ (minus in front of the prediction), the whole derivative is multiplied by $-1$. We can alternatively ignore the minus sign and then add the gradient to the weights, so the final formula would be $w_i = w_i + \\alpha \\frac{\\partial \\mathcal{L}}{\\partial w_i}$. I will stick with the proper mathematical formula - the gradient will be multiplied by $-1$ and I will be subtract it from the weights. I just wanted to point this out, as the minus is sometimes forgotten.\n",
    "\n",
    "Finally, let's put it all to the code."
   ]
  },
  {
   "cell_type": "markdown",
   "metadata": {},
   "source": [
    "I will use the same class as in the previous chapter (`Neuron`) and I will implement the fit method. Don't forget that the gradient descent algorithm needs learning, I will put it in the constructor."
   ]
  },
  {
   "cell_type": "code",
   "execution_count": 2,
   "metadata": {},
   "outputs": [],
   "source": [
    "class Neuron:\n",
    "    def __init__(self, max_iters=100, random_state=None, learning_rate=0.001):\n",
    "        self.max_iters = max_iters\n",
    "        self.converged = False\n",
    "        self._rand = np.random.RandomState(random_state)\n",
    "        self._weights = None\n",
    "        self._learning_rate = learning_rate\n",
    "        pass\n",
    "    \n",
    "    def _activation(self, vals):  # activation function\n",
    "        return 1 / (1 + np.exp(-vals))\n",
    "    \n",
    "    def fit(self, X, y):\n",
    "        # Initialize the weights\n",
    "        self.converged = False\n",
    "        self._weights = self._rand.uniform(-2, 2, X.shape[1])\n",
    "        # Learning\n",
    "        for iteration in range(self.max_iters):\n",
    "            # shufle data randomly\n",
    "            permutation = self._rand.permutation(len(X))       \n",
    "            train_data = X[permutation]\n",
    "            train_labels = y[permutation]\n",
    "            # make gradient descent on each data point\n",
    "            for datapoint, target in zip(train_data, train_labels):\n",
    "                prediction = self.predict(datapoint)\n",
    "                # compute gradient\n",
    "                gradient = -(target - prediction) * (prediction * (1 - prediction)) * datapoint\n",
    "                # update weights\n",
    "                self._weights = self._weights - self._learning_rate * gradient\n",
    "                \n",
    "        return self\n",
    "    \n",
    "    def predict(self, X):\n",
    "            return self._activation(X @ self._weights)\n",
    "    \n",
    "    def __call__(self, X):\n",
    "        return self.predict(X)"
   ]
  },
  {
   "cell_type": "markdown",
   "metadata": {},
   "source": [
    "The algorithm makes `self.max_iters` iterations and in each iteration, it randomly shuffle the data and perform gradient descent for each data point. That mean the algorithm will make `self.max_iters * len(X)` gradient descent executions during training. Let's see how the algorithm behave on some dataset."
   ]
  },
  {
   "cell_type": "code",
   "execution_count": 3,
   "metadata": {},
   "outputs": [
    {
     "data": {
      "image/png": "[encoded data removed]",
      "text/plain": [
       "<Figure size 432x288 with 1 Axes>"
      ]
     },
     "metadata": {
      "needs_background": "light"
     },
     "output_type": "display_data"
    }
   ],
   "source": [
    "data, classes = sklearn.datasets.make_blobs(\n",
    "    n_samples=40,\n",
    "    n_features=2,\n",
    "    centers=[[-2, -2], [2, 2]],\n",
    "    random_state=42,\n",
    ")\n",
    "plt.scatter(data[:,0], data[:,1], c=classes)\n",
    "plt.show()"
   ]
  },
  {
   "cell_type": "code",
   "execution_count": 4,
   "metadata": {},
   "outputs": [
    {
     "data": {
      "image/png": "[encoded data removed]",
      "text/plain": [
       "<Figure size 432x288 with 1 Axes>"
      ]
     },
     "metadata": {
      "needs_background": "light"
     },
     "output_type": "display_data"
    }
   ],
   "source": [
    "# Train the logistic regression\n",
    "train_data = np.hstack([data, np.ones((data.shape[0],1))])  # add bias\n",
    "n = Neuron(random_state=41, max_iters=500, learning_rate=0.01)\n",
    "n.fit(train_data, classes)\n",
    "\n",
    "# Visualize results\n",
    "plt.scatter(data[:,0], data[:,1], c=classes)\n",
    "slope = - n._weights[0] / n._weights[1]\n",
    "bias = n._weights[2] / n._weights[1]\n",
    "plt.plot(\n",
    "    [data.min(axis=0)[0], data.max(0)[0]], \n",
    "    [slope * data.min(axis=0)[0] - bias, slope * data.max(axis=0)[0] - bias],\n",
    "    c='r')\n",
    "plt.show()"
   ]
  },
  {
   "cell_type": "markdown",
   "metadata": {},
   "source": [
    "And that's it, we have working logistic regression. What we have done is called **Stochastic Gradient Descent** - it computes gradient for every sample and update the weights accordingly."
   ]
  },
  {
   "cell_type": "markdown",
   "metadata": {},
   "source": [
    "# Batch gradient descent\n",
    "\n",
    "Let's think a little bit about the previous implementation. When we treat each datapoint separately, the optimum is \"put the separating hyperplane as far as possible\". In other word, when we have only one point and we want to minimalize the loss, the ideal separating hyperplane is infinitly far away from the datapoint (as only in infinity is the value of sigmoid 1 or 0, depending on the class). As a result, the algorithm can start oscilating the same way we have seen in the perceptron case."
   ]
  },
  {
   "cell_type": "markdown",
   "metadata": {},
   "source": [
    "However, what we really want, is the separating hyperplane that is optimal for all the datapoints we have. Let's look once again to the loss function.\n",
    "\n",
    "$$\n",
    "\\mathcal{L}=\\frac{1}{2} \\sum_{i=0}^{n} \\left( t_i - f(\\pmb{x_i}) \\right)^2 \n",
    "$$\n",
    "\n",
    "We silently ignored the sum, or more precisely we used only one datapoint so the sum disapeared. Let's now fix the algorithm and instead of updating the weights based on the simple sample, we are going to update it based on the all the samples."
   ]
  },
  {
   "cell_type": "code",
   "execution_count": 5,
   "metadata": {},
   "outputs": [],
   "source": [
    "class Neuron:\n",
    "    def __init__(self, max_iters=100, random_state=None, learning_rate=0.001):\n",
    "        self.max_iters = max_iters\n",
    "        self.converged = False\n",
    "        self._rand = np.random.RandomState(random_state)\n",
    "        self._weights = None\n",
    "        self._learning_rate = learning_rate\n",
    "        pass\n",
    "    \n",
    "    def _activation(self, vals):  # activation function\n",
    "        return 1 / (1 + np.exp(-vals))\n",
    "    \n",
    "    def fit(self, X, y):\n",
    "        # Initialize the weights\n",
    "        self.converged = False\n",
    "        self._weights = self._rand.uniform(-2, 2, X.shape[1])\n",
    "        # Learning\n",
    "        for iteration in range(self.max_iters):\n",
    "            # predict the data\n",
    "            prediction = self.predict(X)\n",
    "            # table of gradient for each weights and gradient in the shape (samples,weights)\n",
    "            gradient = np.reshape(-(y - prediction) * (prediction * (1 - prediction)), newshape=(-1,1)) * X\n",
    "            # sum gradient over the samples\n",
    "            sum_gradient = np.sum(gradient, axis=0)\n",
    "            # update the weights\n",
    "            self._weights = self._weights - self._learning_rate * sum_gradient\n",
    "                \n",
    "        return self\n",
    "    \n",
    "    def predict(self, X):\n",
    "            return self._activation(X @ self._weights)\n",
    "    \n",
    "    def __call__(self, X):\n",
    "        return self.predict(X)"
   ]
  },
  {
   "cell_type": "markdown",
   "metadata": {},
   "source": [
    "The implementation is almost the same. We first generate all the predictions for all the datapoints (that is `prediction` is vector), then compute the gradient of loss and sigmoid (the result is still a vector) and finally multiply each value with the corresponding datapoint. Because `X` is a matrix, we need to reshape the gradient (of loss in respect to $\\pmb{x}\\pmb{w}^T$) to matrix of size `(samples,1)` so we can multiply it with matrix `X` of shape `(samples,features)`. We obtain the gradient in respect to input variables for each datapoint (that is `gradient` variable in the shape `(samples,features)`) and we sum it over the datapoints. Finally, we update the weights.\n",
    "\n",
    "Note that we didn't shuffle the data this time, as it doesn't make sense.\n",
    "\n",
    "Now let's train the logistic regression and see the results."
   ]
  },
  {
   "cell_type": "code",
   "execution_count": 6,
   "metadata": {},
   "outputs": [
    {
     "data": {
      "image/png": "[encoded data removed]",
      "text/plain": [
       "<Figure size 432x288 with 1 Axes>"
      ]
     },
     "metadata": {
      "needs_background": "light"
     },
     "output_type": "display_data"
    }
   ],
   "source": [
    "# Train the logistic regression\n",
    "train_data = np.hstack([data, np.ones((data.shape[0],1))])  # add bias\n",
    "n = Neuron(random_state=42, max_iters=1000, learning_rate=0.05)\n",
    "n.fit(train_data, classes)\n",
    "\n",
    "# Visualize results\n",
    "plt.scatter(data[:,0], data[:,1], c=classes)\n",
    "slope = - n._weights[0] / n._weights[1]\n",
    "bias = n._weights[2] / n._weights[1]\n",
    "plt.plot(\n",
    "    [data.min(axis=0)[0], data.max(0)[0]], \n",
    "    [slope * data.min(axis=0)[0] - bias, slope * data.max(axis=0)[0] - bias],\n",
    "    c='r')\n",
    "plt.show()"
   ]
  },
  {
   "cell_type": "markdown",
   "metadata": {},
   "source": [
    "The result seems to be a bit better then in the previous case. The algorithm keeps about the same distance from the first class as from the second one. Using all the datapoints at once, the algorithm can find the global minimum and will not oscilate.\n",
    "\n",
    "Sometimes, this algorithm is just call **gradient descent** (instead of batch gradient descent). This make sense as the algorithm in fact optimize the global loss (instead of loss for individual datapoints). In most sources gradient descent (aka batch gradient descent) is shown first and then they start talking about it's stochastic version. I decided to flip the order as from the implementation point of view, the stochastic version is easier to read (at least I believe so)."
   ]
  },
  {
   "cell_type": "markdown",
   "metadata": {},
   "source": [
    "## Pros and cons\n",
    "\n",
    "Now, when we have seen batch gradient descent (I will refer to it as gradient descent so on) and stochastic gradient descent, we should talk about the differences and what are their pros and cons.\n",
    "\n",
    "+ Gradient descent is more stable and can result in faster convergence in some cases.\n",
    "+ Gradient descent is usually more eficient, as the operations can be vectorized (performing the same operation over multiple data at once) and thus the algorithm can be faster.\n",
    "+ Because update is following the prediction, the algorithm can be paralelized into some level.\n",
    "+ Gradient descent can stuck in the local optimum more easily.\n",
    "+ Gradient descent can have problems for big training sets, as the data don't need to fit into memory (nothing we would need to worry about so far). That may leads even to overflow, when there are so many samples that the sum of gradients do not fit into to memory (or the value would be simply too big).\n",
    "+ Stochastic gradient descent updates weights more often and thus can lead to faster convergence.\n",
    "+ Stochastic gradient descent is more computationally intensive.\n",
    "+ Stochastic gradient descent can oscilate too much and avoid the global optimum (even good local optimum).\n",
    "\n",
    "These algorithms are extrems, we update weights for every datapoint or for all the datapoints. It turns out the best approach is something between, that lead us to the following algorithm."
   ]
  },
  {
   "cell_type": "markdown",
   "metadata": {},
   "source": [
    "# Minibatch gradient descent\n",
    "\n",
    "Minibatch gradient descent combines the approaches above. We provide the algorithm another parameter (called batch size). Before each iteration, the algorithm shuffle the data and split them into subsets of the same size (based on the batch size parameter) called batches. The weights update is then done for each batch separatelly.\n",
    "\n",
    "There is usually one more difference to batch gradient descent. We sum the gradients before and it turns out, it is better to use mean. Because we use mean, the order of gradient remains same no matter what batch size we use. Moreover, the algorithm became more stable (the gradients are less noisy) and we can control the speed of algorithm using `learning_rate` parameter. Note that in order to keep same speed of training, we need to multiply the learning rate by $2$ if we use twice as big batch size.\n",
    "\n",
    "Question you may ask is what to do with the last batch in case the number of datapoints is not divisible by the batch size. Well, we can ignore that batch or use it anyway. Note that the batch size should be in order of magnitudes smaller than the data, so skipping it shoudn't have impact on the training process. When we use it, the gradient can be more noisy, but again, it shoudn't have impact on the training process as there are plenty of batches. I am going to use it, but if you don't want to, it is as easy as modifying the source code a little bit.\n",
    "\n",
    "Before we dig into the code, I want to point one one small change in the terminology. What we called iteration before is now called epoch - one epoch is done when the algorithm processes all the datapoints in the set. One iteration is then done when one batch is processed."
   ]
  },
  {
   "cell_type": "code",
   "execution_count": 7,
   "metadata": {},
   "outputs": [],
   "source": [
    "class Neuron:\n",
    "    def __init__(self, epochs=100, random_state=None, learning_rate=0.001, batch_size=16):\n",
    "        # use epochs instead of iterations\n",
    "        self.epochs = epochs\n",
    "        self.converged = False\n",
    "        self._rand = np.random.RandomState(random_state)\n",
    "        self._weights = None\n",
    "        self._learning_rate = learning_rate\n",
    "        self._batch_size = batch_size\n",
    "        pass\n",
    "    \n",
    "    def _activation(self, vals):  # activation function\n",
    "        return 1 / (1 + np.exp(-vals))\n",
    "    \n",
    "    def fit(self, X, y):\n",
    "        # Initialize the weights\n",
    "        self.converged = False\n",
    "        self._weights = self._rand.uniform(-2, 2, X.shape[1])\n",
    "        n_data = len(X)\n",
    "        # Learning\n",
    "        for epoch in range(self.epochs):\n",
    "            # shuffle the data\n",
    "            permutation = self._rand.permutation(n_data)\n",
    "            # for each batch\n",
    "            for batch_start in range(0, n_data, self._batch_size):\n",
    "                # get batch\n",
    "                batch_data = X[permutation[batch_start:batch_start+self._batch_size]]\n",
    "                batch_target = y[permutation[batch_start:batch_start+self._batch_size]]\n",
    "                # predict the data\n",
    "                prediction = self.predict(batch_data)\n",
    "                # table of gradient for each weights and gradient in the shape (samples,weights)\n",
    "                gradient = np.reshape(-(batch_target - prediction) * (prediction * (1 - prediction)), newshape=(-1,1)) * batch_data\n",
    "                # mean gradient over the samples\n",
    "                mean_gradient = np.mean(gradient, axis=0)\n",
    "                # update the weights\n",
    "                self._weights = self._weights - self._learning_rate * mean_gradient\n",
    "                \n",
    "        return self\n",
    "    \n",
    "    def predict(self, X):\n",
    "            return self._activation(X @ self._weights)\n",
    "    \n",
    "    def __call__(self, X):\n",
    "        return self.predict(X)"
   ]
  },
  {
   "cell_type": "markdown",
   "metadata": {},
   "source": [
    "There are not many changes. First of all, we shuffle the data as we did in the stochastic gradient descent. We then iterate over the data and use Python's slicing capability to obtain one batch (we need to index the original data by the permutations). The rest is the same, except we are using `np.mean` instead of `np.sum`. Let's see the result."
   ]
  },
  {
   "cell_type": "code",
   "execution_count": 8,
   "metadata": {},
   "outputs": [
    {
     "data": {
      "image/png": "[encoded data removed]",
      "text/plain": [
       "<Figure size 432x288 with 1 Axes>"
      ]
     },
     "metadata": {
      "needs_background": "light"
     },
     "output_type": "display_data"
    }
   ],
   "source": [
    "# Train the logistic regression\n",
    "train_data = np.hstack([data, np.ones((data.shape[0],1))])  # add bias\n",
    "n = Neuron(random_state=42, epochs=1000, learning_rate=0.1, batch_size=4)\n",
    "n.fit(train_data, classes)\n",
    "\n",
    "# Visualize results\n",
    "plt.scatter(data[:,0], data[:,1], c=classes)\n",
    "slope = - n._weights[0] / n._weights[1]\n",
    "bias = n._weights[2] / n._weights[1]\n",
    "plt.plot(\n",
    "    [data.min(axis=0)[0], data.max(0)[0]], \n",
    "    [slope * data.min(axis=0)[0] - bias, slope * data.max(axis=0)[0] - bias],\n",
    "    c='r')\n",
    "plt.show()"
   ]
  },
  {
   "cell_type": "markdown",
   "metadata": {},
   "source": [
    "The result is not surprising. In fact, all the algorithms look same so far! Let's compare them on a bit more complicated example."
   ]
  },
  {
   "cell_type": "markdown",
   "metadata": {},
   "source": [
    "# Evaluation"
   ]
  },
  {
   "cell_type": "code",
   "execution_count": 95,
   "metadata": {},
   "outputs": [],
   "source": [
    "X, y = sklearn.datasets.fetch_openml('mnist_784', version=1, return_X_y=True)\n",
    "y = y.astype(int)\n",
    "one_or_seven_indices = np.logical_or(y == 1, y == 7)\n",
    "train_data = X[one_or_seven_indices].reshape(-1, 784)\n",
    "train_data[train_data < 128] = 0\n",
    "train_data[train_data > 0] = 1\n",
    "train_data = np.hstack([train_data, np.ones((train_data.shape[0],1))])\n",
    "train_target = y[one_or_seven_indices].reshape(-1)\n",
    "train_target[train_target==7] = 0"
   ]
  },
  {
   "cell_type": "code",
   "execution_count": 70,
   "metadata": {},
   "outputs": [],
   "source": [
    "class StochasticNeuron:\n",
    "    def __init__(self, max_iters=100, random_state=None, learning_rate=0.001):\n",
    "        self.max_iters = max_iters\n",
    "        self.converged = False\n",
    "        self._rand = np.random.RandomState(random_state)\n",
    "        self._weights = None\n",
    "        self._learning_rate = learning_rate\n",
    "        pass\n",
    "    \n",
    "    def _activation(self, vals):  # activation function\n",
    "        return 1 / (1 + np.exp(-vals))\n",
    "    \n",
    "    def fit(self, X, y):\n",
    "        # Initialize the weights\n",
    "        self.converged = False\n",
    "        self._weights = self._rand.uniform(-2, 2, X.shape[1])\n",
    "        # store gradients and losses\n",
    "        losses = np.zeros((self.max_iters))\n",
    "        gradients = []\n",
    "        # Learning\n",
    "        for iteration in range(self.max_iters):\n",
    "            # shufle data randomly\n",
    "            permutation = self._rand.permutation(len(X))       \n",
    "            train_data = X[permutation]\n",
    "            train_labels = y[permutation]\n",
    "            # make gradient descent on each data point\n",
    "            for datapoint, target in zip(train_data, train_labels):\n",
    "                prediction = self.predict(datapoint)\n",
    "                # store loss\n",
    "                losses[iteration] += (target - prediction)**2\n",
    "                # compute gradient\n",
    "                gradient = -(target - prediction) * (prediction * (1 - prediction)) * datapoint\n",
    "                # update weights\n",
    "                self._weights = self._weights - self._learning_rate * gradient\n",
    "                \n",
    "        return losses / X.shape[0], gradients\n",
    "    \n",
    "    def predict(self, X):\n",
    "            return self._activation(X @ self._weights)\n",
    "    \n",
    "    def __call__(self, X):\n",
    "        return self.predict(X)\n",
    "    \n",
    "class BatchNeuron:\n",
    "    def __init__(self, max_iters=100, random_state=None, learning_rate=0.001):\n",
    "        self.max_iters = max_iters\n",
    "        self.converged = False\n",
    "        self._rand = np.random.RandomState(random_state)\n",
    "        self._weights = None\n",
    "        self._learning_rate = learning_rate\n",
    "        pass\n",
    "    \n",
    "    def _activation(self, vals):  # activation function\n",
    "        return 1 / (1 + np.exp(-vals))\n",
    "    \n",
    "    def fit(self, X, y):\n",
    "        # Initialize the weights\n",
    "        self.converged = False\n",
    "        self._weights = self._rand.uniform(-2, 2, X.shape[1])\n",
    "        # store gradients and losses\n",
    "        losses = np.zeros((self.max_iters,))\n",
    "        gradients = []\n",
    "        # Learning\n",
    "        for iteration in range(self.max_iters):\n",
    "            # predict the data\n",
    "            prediction = self.predict(X)\n",
    "            # store loss\n",
    "            losses[iteration] = np.mean((y - prediction) ** 2, axis=0) \n",
    "            # table of gradient for each weights and gradient in the shape (samples,weights)\n",
    "            gradient = np.reshape(-(y - prediction) * (prediction * (1 - prediction)), newshape=(-1,1)) * X\n",
    "            # sum gradient over the samples\n",
    "            sum_gradient = np.sum(gradient, axis=0)\n",
    "            # update the weights\n",
    "            self._weights = self._weights - self._learning_rate * sum_gradient\n",
    "                \n",
    "        return losses, gradients\n",
    "    \n",
    "    def predict(self, X):\n",
    "            return self._activation(X @ self._weights)\n",
    "    \n",
    "    def __call__(self, X):\n",
    "        return self.predict(X)\n",
    "    \n",
    "class MinibatchNeuron:\n",
    "    def __init__(self, epochs=100, random_state=None, learning_rate=0.001, batch_size=16):\n",
    "        # use epochs instead of iterations\n",
    "        self.epochs = epochs\n",
    "        self.converged = False\n",
    "        self._rand = np.random.RandomState(random_state)\n",
    "        self._weights = None\n",
    "        self._learning_rate = learning_rate\n",
    "        self._batch_size = batch_size\n",
    "        pass\n",
    "    \n",
    "    def _activation(self, vals):  # activation function\n",
    "        return 1 / (1 + np.exp(-vals))\n",
    "    \n",
    "    def fit(self, X, y):\n",
    "        # Initialize the weights\n",
    "        self.converged = False\n",
    "        self._weights = self._rand.uniform(-2, 2, X.shape[1])\n",
    "        n_data = len(X)\n",
    "        # store gradients and losses\n",
    "        losses = np.zeros((self.epochs,))\n",
    "        gradients = []\n",
    "        # Learning\n",
    "        for epoch in range(self.epochs):\n",
    "            # shuffle the data\n",
    "            permutation = self._rand.permutation(n_data)\n",
    "            # for each batch\n",
    "            for batch_start in range(0, n_data, self._batch_size):\n",
    "                # get batch\n",
    "                batch_data = X[permutation[batch_start:batch_start+self._batch_size]]\n",
    "                batch_target = y[permutation[batch_start:batch_start+self._batch_size]]\n",
    "                # predict the data\n",
    "                prediction = self.predict(batch_data)\n",
    "                # store losses\n",
    "                losses[epoch] += np.sum((batch_target - prediction) ** 2, axis=0)\n",
    "                # table of gradient for each weights and gradient in the shape (samples,weights)\n",
    "                gradient = np.reshape(-(batch_target - prediction) * (prediction * (1 - prediction)), newshape=(-1,1)) * batch_data\n",
    "                # mean gradient over the samples\n",
    "                mean_gradient = np.mean(gradient, axis=0)\n",
    "                # update the weights\n",
    "                self._weights = self._weights - self._learning_rate * mean_gradient\n",
    "                \n",
    "        return losses / X.shape[0], gradients\n",
    "    \n",
    "    def predict(self, X):\n",
    "            return self._activation(X @ self._weights)\n",
    "    \n",
    "    def __call__(self, X):\n",
    "        return self.predict(X)"
   ]
  },
  {
   "cell_type": "code",
   "execution_count": 115,
   "metadata": {},
   "outputs": [],
   "source": [
    "class TimeMeasure:\n",
    "    def __enter__(self):\n",
    "        self._starttime = timeit.default_timer()\n",
    "        return self\n",
    "    def __exit__(self, *args):\n",
    "        end = timeit.default_timer()\n",
    "        print(end - self._starttime)"
   ]
  },
  {
   "cell_type": "code",
   "execution_count": 124,
   "metadata": {},
   "outputs": [
    {
     "name": "stdout",
     "output_type": "stream",
     "text": [
      "392.50779109999985\n",
      "65.42353420000018\n",
      "310.9281471000004\n",
      "137.11069620000035\n"
     ]
    }
   ],
   "source": [
    "sgd = StochasticNeuron(max_iters=1000, random_state=47, learning_rate=0.001)\n",
    "bgd = BatchNeuron(max_iters=1000, random_state=47, learning_rate=0.01)\n",
    "mbgd_4 = MinibatchNeuron(epochs=1000, random_state=47, learning_rate=0.04, batch_size=4)\n",
    "mbgd_16 = MinibatchNeuron(epochs=1000, random_state=47, learning_rate=0.1, batch_size=16)\n",
    "\n",
    "with TimeMeasure():\n",
    "    sgd_loss, sgd_gradient = sgd.fit(train_data, train_target)\n",
    "with TimeMeasure():\n",
    "    bgd_loss, bgd_gradient = bgd.fit(train_data, train_target)\n",
    "with TimeMeasure():\n",
    "    mbgd_loss_4, mbgd_gradient_4 = mbgd_4.fit(train_data, train_target)\n",
    "with TimeMeasure():\n",
    "    mbgd_loss_16, mbgd_gradient_16 = mbgd_16.fit(train_data, train_target)"
   ]
  },
  {
   "cell_type": "code",
   "execution_count": 100,
   "metadata": {},
   "outputs": [
    {
     "data": {
      "text/plain": [
       "<matplotlib.image.AxesImage at 0x1cf4c48de08>"
      ]
     },
     "execution_count": 100,
     "metadata": {},
     "output_type": "execute_result"
    },
    {
     "data": {
      "image/png": "[encoded data removed]",
      "text/plain": [
       "<Figure size 432x288 with 1 Axes>"
      ]
     },
     "metadata": {
      "needs_background": "light"
     },
     "output_type": "display_data"
    }
   ],
   "source": [
    "train_data[0].shape\n",
    "plt.imshow(train_data[1000, :784].reshape(28, 28))"
   ]
  },
  {
   "cell_type": "code",
   "execution_count": 125,
   "metadata": {},
   "outputs": [
    {
     "data": {
      "image/png": "[encoded data removed]",
      "text/plain": [
       "<Figure size 864x576 with 1 Axes>"
      ]
     },
     "metadata": {
      "needs_background": "light"
     },
     "output_type": "display_data"
    }
   ],
   "source": [
    "plt.figure(figsize=(12,8))\n",
    "plt.plot(sgd_loss, label=\"Stochastic\", alpha=0.7)\n",
    "plt.plot(bgd_loss, label=\"Batch\", alpha=0.7)\n",
    "plt.plot(mbgd_loss_4, label=\"Minibatch 4\", alpha=0.7)\n",
    "plt.plot(mbgd_loss_16, label=\"Minibatch 16\", alpha=0.7)\n",
    "plt.yscale('log')\n",
    "ticks = [0.005, 0.01, 0.02, 0.04, 0.08, 0.16, 0.32, 0.64]\n",
    "plt.yticks(ticks=ticks, labels=ticks)\n",
    "plt.ylabel(\"Loss\")\n",
    "plt.xlabel(\"Epoch\")\n",
    "plt.title(\"Loss evaluation\")\n",
    "plt.legend()\n",
    "plt.show()"
   ]
  }
 ],
 "metadata": {
  "kernelspec": {
   "display_name": "Python 3",
   "language": "python",
   "name": "python3"
  },
  "language_info": {
   "codemirror_mode": {
    "name": "ipython",
    "version": 3
   },
   "file_extension": ".py",
   "mimetype": "text/x-python",
   "name": "python",
   "nbconvert_exporter": "python",
   "pygments_lexer": "ipython3",
   "version": "3.7.5"
  }
 },
 "nbformat": 4,
 "nbformat_minor": 4
}
