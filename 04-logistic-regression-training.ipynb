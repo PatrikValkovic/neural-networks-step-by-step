{
 "cells": [
  {
   "cell_type": "code",
   "execution_count": 9,
   "metadata": {},
   "outputs": [],
   "source": [
    "%config IPCompleter.greedy=True\n",
    "\n",
    "import numpy as np\n",
    "import matplotlib.pyplot as plt\n",
    "import sklearn.preprocessing, sklearn.datasets"
   ]
  },
  {
   "cell_type": "markdown",
   "metadata": {},
   "source": [
    "In the previous chapter I introduces logistic regression and how it make prediction. I as well pointed out, that unlike Perceptron, logistic regression returns probability of datapoints belongs to specific class. However, I didn't mention the training algorithm for it. That would be content of this chapter.\n",
    "\n",
    "I also demonstrated gradient descent algorithm in the second half of the previous chapter. There will be no surprise, that the gradient descent is the exact algorithm we are going to use in this chapter to train logistic regression."
   ]
  },
  {
   "cell_type": "markdown",
   "metadata": {},
   "source": [
    "# Logistic regression training\n",
    "\n",
    "We now should have all the knowledge we need to train logistic regression. For reminder, prediction of the logistic regression is following:\n",
    "\n",
    "$$\n",
    "f(\\pmb{x})=\\frac{1}{1+e^{-\\pmb{x}\\pmb{w}^T}}\n",
    "$$\n",
    "\n",
    "In able to use gradient descent, we need some function, that the algorithm is going to optimize. Thats why I showed loss function. When we plug it in, we obtain the following formula.\n",
    "\n",
    "$$\n",
    "\\mathcal{L}=\\frac{1}{2} \\sum_{i=0}^{n} \\left( t_i - f(\\pmb{x_i}) \\right)^2 = \\frac{1}{2} \\sum_{i=0}^{n} \\left( t_i - \\frac{1}{1+e^{-\\pmb{x}\\pmb{w}^T}} \\right)^2\n",
    "$$\n",
    "\n",
    "Now we want to update the weights, so we need to compute gradient of loss function in respect to weight (and we need to compute it for every weights). In this case, we can use the chain rule.\n",
    "\n",
    "$$\n",
    "\\frac{\\partial \\mathcal{L}}{\\partial w_i} = \\frac{\\partial \\mathcal{L}}{\\partial f(\\pmb{x})} \\cdot \\frac{\\partial f(\\pmb{x})}{\\partial \\pmb{x}\\pmb{w}^T} \\cdot \\frac{\\partial \\pmb{x}\\pmb{w}^T}{\\partial w_i}\n",
    "$$\n",
    "\n",
    "Then the gradient is easy to obtain (note that I mark $\\sigma(x)$ as the sigmoid function, i.e. $\\sigma(x)=\\frac{1}{1+e^{-x}}$ and $y_i$ as the prediction of the model, i.e. $y_i = \\sigma(\\pmb{x}\\pmb{w}^T)$.\n",
    "\n",
    "$$\\\n",
    "\\frac{\\partial \\mathcal{L}}{\\partial w_i} = (t_i - y_i) \\cdot -\\sigma(\\pmb{x}\\pmb{w}^T)\\left( 1 - \\sigma(\\pmb{x}\\pmb{w}^T) \\right) \\cdot x_i\n",
    "$$\n",
    "\n",
    "Finally, let's put it all to the code."
   ]
  },
  {
   "cell_type": "markdown",
   "metadata": {},
   "source": [
    "I will use the same class as in the previous chapter (`Neuron`) and I will implement the fit method. Don't forget that the gradient descent algorithm needs learning, I will put it in the constructor."
   ]
  },
  {
   "cell_type": "code",
   "execution_count": 81,
   "metadata": {},
   "outputs": [],
   "source": [
    "class Neuron:\n",
    "    def __init__(self, max_iters=100, random_state=None, learning_rate=0.001):\n",
    "        self.max_iters = max_iters\n",
    "        self.converged = False\n",
    "        self._rand = np.random.RandomState(random_state)\n",
    "        self._weights = None\n",
    "        self._learning_rate = learning_rate\n",
    "        pass\n",
    "    \n",
    "    def _activation(self, vals):  # activation function\n",
    "        return 1 / (1 + np.exp(-vals))\n",
    "    \n",
    "    def fit(self, X, y):\n",
    "        # Initialize the weights\n",
    "        self.converged = False\n",
    "        self._weights = self._rand.uniform(-2, 2, X.shape[1])\n",
    "        # Learning\n",
    "        for iteration in range(self.max_iters):\n",
    "            # shufle data randomly\n",
    "            permutation = self._rand.permutation(len(X))       \n",
    "            train_data = X[permutation]\n",
    "            train_labels = y[permutation]\n",
    "            # make gradient descent on each data point\n",
    "            for datapoint, target in zip(train_data, train_labels):\n",
    "                prediction = self.predict(datapoint)\n",
    "                # compute gradient\n",
    "                gradient = -(target - prediction) * (prediction * (1 - prediction)) * datapoint\n",
    "                # update weights\n",
    "                self._weights = self._weights - self._learning_rate * gradient\n",
    "                \n",
    "        return self\n",
    "    \n",
    "    def predict(self, X):\n",
    "            return self._activation(X @ self._weights)\n",
    "    \n",
    "    def __call__(self, X):\n",
    "        return self.predict(X)"
   ]
  },
  {
   "cell_type": "markdown",
   "metadata": {},
   "source": [
    "The algorithm makes `self.max_iters` iterations and in each iteration, it randomly shuffle the data and perform gradient descent for each data point. That mean the algorithm will make `self.max_iters * len(X)` gradient descent executions during training. Let's see how the algorithm behave on some dataset."
   ]
  },
  {
   "cell_type": "code",
   "execution_count": 58,
   "metadata": {},
   "outputs": [
    {
     "data": {
      "image/png": "[encoded data removed]",
      "text/plain": [
       "<Figure size 432x288 with 1 Axes>"
      ]
     },
     "metadata": {
      "needs_background": "light"
     },
     "output_type": "display_data"
    }
   ],
   "source": [
    "data, classes = sklearn.datasets.make_blobs(\n",
    "    n_samples=40,\n",
    "    n_features=2,\n",
    "    centers=[[-2, -2], [2, 2]],\n",
    "    random_state=42,\n",
    ")\n",
    "plt.scatter(data[:,0], data[:,1], c=classes)\n",
    "plt.show()"
   ]
  },
  {
   "cell_type": "code",
   "execution_count": 83,
   "metadata": {},
   "outputs": [
    {
     "data": {
      "image/png": "[encoded data removed]",
      "text/plain": [
       "<Figure size 432x288 with 1 Axes>"
      ]
     },
     "metadata": {
      "needs_background": "light"
     },
     "output_type": "display_data"
    }
   ],
   "source": [
    "# Train the logistic regression\n",
    "train_data = np.hstack([data, np.ones((data.shape[0],1))])  # add bias\n",
    "n = Neuron(random_state=41, max_iters=500, learning_rate=0.01)\n",
    "n.fit(train_data, classes)\n",
    "\n",
    "# Visualize results\n",
    "plt.scatter(data[:,0], data[:,1], c=classes)\n",
    "slope = - n._weights[0] / n._weights[1]\n",
    "bias = n._weights[2] / n._weights[1]\n",
    "plt.plot(\n",
    "    [data.min(axis=0)[0], data.max(0)[0]], \n",
    "    [slope * data.min(axis=0)[0] - bias, slope * data.max(axis=0)[0] - bias],\n",
    "    c='r')\n",
    "plt.show()"
   ]
  }
 ],
 "metadata": {
  "kernelspec": {
   "display_name": "Python 3",
   "language": "python",
   "name": "python3"
  },
  "language_info": {
   "codemirror_mode": {
    "name": "ipython",
    "version": 3
   },
   "file_extension": ".py",
   "mimetype": "text/x-python",
   "name": "python",
   "nbconvert_exporter": "python",
   "pygments_lexer": "ipython3",
   "version": "3.7.5"
  }
 },
 "nbformat": 4,
 "nbformat_minor": 4
}
