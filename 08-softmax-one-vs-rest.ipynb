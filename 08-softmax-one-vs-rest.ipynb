{
 "cells": [
  {
   "cell_type": "code",
   "execution_count": 1,
   "metadata": {},
   "outputs": [],
   "source": [
    "%config IPCompleter.greedy=True\n",
    "\n",
    "import numpy as np\n",
    "import matplotlib.pyplot as plt\n",
    "import sklearn.preprocessing, sklearn.datasets, sklearn.model_selection\n",
    "from progressbar import progressbar"
   ]
  },
  {
   "cell_type": "markdown",
   "metadata": {},
   "source": [
    "At the end of the previous notebook, I briefly showed one-vs-rest classification technique and normalization of the distribution. We may put this normalization after the sigmoid activation functions - that exactly, what softmax is suppose to do."
   ]
  },
  {
   "cell_type": "markdown",
   "metadata": {},
   "source": [
    "# Softmax\n",
    "\n",
    "Formally, we may define the softmax as follow:\n",
    "\n",
    "$$\n",
    "softmax(\\pmb{x})_i = \\frac{e^{x_i}}{\\sum_k e^{x_k}}\n",
    "$$\n",
    "\n",
    "In other words, we apply exponential to each input of the softmax and then normalize the probability distribution.\n",
    "\n",
    "Note that softmax is just a generalization of the sigmoid activation.\n",
    "\n",
    "$$\n",
    "softmax(x, 0) = \\frac{e^x}{e^x + e^0} = \\frac{e^x}{e^x + 1} \\cdot \\frac{e^{-x}}{e^{-x}} = \\frac{e^{x-x}}{e^{x-x} + e^{-x}} = \\frac{e^0}{e^0 + e^{-x}} = \\frac{1}{1+e^{-x}} = \\sigma(x)\n",
    "$$\n",
    "\n",
    "Now, when we have the formula, it is easy to implement the sigmoid in NumPy."
   ]
  },
  {
   "cell_type": "code",
   "execution_count": 2,
   "metadata": {},
   "outputs": [],
   "source": [
    "def softmax(x):\n",
    "    return np.exp(x) / np.sum(np.exp(x))"
   ]
  },
  {
   "cell_type": "markdown",
   "metadata": {},
   "source": [
    "But why bother with sigmoid and not just normalize the outputs of sigmoids? It turns out, we may get better numerical properties if we join sigmoids and normalization into one \"layer\". Thanks to the following equation.\n",
    "\n",
    "$$\n",
    "softmax(\\pmb{x}+c)_i=\\frac{e^{x_i+c}}{\\sum_k e^{x_k+c}} = \\frac{e^c}{e^c} \\cdot \\frac{e^{x_i}}{\\sum_k e^{x_k}} = softmax(\\pmb{x})_i\n",
    "$$\n",
    "\n",
    "The danger in the softmax is the exponents when the divisor can become too big for float values and as a result, become infinity. However, we may set $c=max(\\pmb{x})$ and as all the scalars are negative or zero, there would be no overflow. Cases, where the divisor becomes zero are much more unlikely and even if some scalars are so small, that they are round to zero because of the float precision, it doesn't matter for users to distinguish between their actual value and zero. \n",
    "\n",
    "This way, we have our modified softmax function."
   ]
  },
  {
   "cell_type": "code",
   "execution_count": 3,
   "metadata": {},
   "outputs": [],
   "source": [
    "def softmax(x):\n",
    "    x = x - np.max(x)\n",
    "    return np.exp(x) / np.sum(np.exp(x))"
   ]
  },
  {
   "cell_type": "markdown",
   "metadata": {},
   "source": [
    "## Gradient\n",
    "\n",
    "Before we move on, we need to know how to compute the gradient. That is not that easy as with softmax, as we have multiple inputs and multiple outputs. You may try it by hand if you wish.\n",
    "\n",
    "$$\n",
    "\\frac{\\partial softmax(\\pmb{x})_i}{\\partial x_j} = \\frac{\\partial \\frac{e^{x_i}}{\\sum_k e^{x_k}}}{\\partial x_j}\n",
    "$$\n",
    "\n",
    "There are three indices! Moreover, this is derivative only with respect to one input variable. We need to compute the gradient of every output with respect to every input. I don't want to dig too much into the math, you can see [[1]](#Bibliography) if you wanna know more. In the end, the gradient pops out, so we may implement it.\n",
    "\n",
    "$$\n",
    "\\frac{\\partial softmax(\\pmb{x})_i}{\\partial x_j} = \n",
    "\\begin{cases}\n",
    "    softmax(\\pmb{x})_j - softmax(\\pmb{x})_j \\cdot softmax(\\pmb{x})_i & \\text{if } i = j \\\\\n",
    "    0 - softmax(\\pmb{x})_j \\cdot softmax(\\pmb{x})_i & \\text{if } i \\neq j \\\\\n",
    "\\end{cases}\n",
    "$$\n",
    "\n",
    "You may notice something strange - the gradient is a table. Remember, we compute the gradient of each output with respect to each input. That need's to be a table. But we want only gradients with respect to the inputs - we need to sum the gradients over the outputs, the same way, as we sum gradients of multiple examples. I won't show the implementation just yet, as I believe it would be more helpful to view the code and the explanation in the bigger picture."
   ]
  },
  {
   "cell_type": "markdown",
   "metadata": {},
   "source": [
    "I mentioned **layer** a while ago. The fact is, the softmax is really a layer, how we understand them in the context of neural networks. We will implement our first simple neural networks in the very next notebook. It took us eight notebooks, but we finally have enough knowledge to do that. However, we need some refactoring of the code before we can do that."
   ]
  },
  {
   "cell_type": "markdown",
   "metadata": {},
   "source": [
    "# Refactoring\n",
    "\n",
    "Let's start with the **layer** implementation itself. Maybe I should tell first, what the layer is. During the neural network training (we may think about the logistic regression as about a simple neural network) we are exploiting the chain rule. You may remember from school the chain rule.\n",
    "\n",
    "$$\n",
    "\\frac{\\partial f(g(h(x)))}{\\partial x} = \\frac{\\partial f(g(h(x)))}{\\partial g(h(x))} \\cdot \\frac{\\partial g(h(x))}{\\partial h(x)} \\cdot \\frac{\\partial h(x)}{\\partial x}\n",
    "$$\n",
    "\n",
    "This is not different from our model, remember that loss of logistic regression was written as:\n",
    "\n",
    "$$\n",
    "\\mathcal{L}(\\sigma(\\pmb{x}\\pmb{w})\n",
    "$$\n",
    "\n",
    "And we need to update the weights.\n",
    "\n",
    "$$\n",
    "\\frac{\\mathcal{L}}{\\partial \\pmb{w}} = \\frac{\\partial \\mathcal{L}}{\\partial \\sigma} \\cdot \\frac{\\partial \\sigma}{\\partial \\pmb{x}\\pmb{w}} \\cdot \\frac{\\partial \\pmb{x}\\pmb{w}}{\\partial \\pmb{w}}\n",
    "$$\n",
    "\n",
    "Each part of the gradient will be one layer. We will use the same layers for neural networks later on. We already implemented some - for example the loss function."
   ]
  },
  {
   "cell_type": "code",
   "execution_count": 4,
   "metadata": {},
   "outputs": [],
   "source": [
    "class CategoricalCrossEntropyLoss:\n",
    "    def __call__(self, target, predicted):\n",
    "        indices = np.arange(len(target))\n",
    "        return -np.log(np.maximum(predicted[indices,target], 1e-15))\n",
    "    \n",
    "    def gradient(self, target, predicted):\n",
    "        grad = np.zeros((len(target), 10))\n",
    "        indices = np.arange(len(target))\n",
    "        grad[indices,target] = -1 / np.maximum(predicted[indices,target], 1e-15)\n",
    "        return grad"
   ]
  },
  {
   "cell_type": "markdown",
   "metadata": {},
   "source": [
    "Notice, that the layer accepts the output of the previous layer (in this case in shape `(batchsize, classes)`) and it returns its gradient with respect to its input - again in the shape `(batchsize,classes)`."
   ]
  },
  {
   "cell_type": "markdown",
   "metadata": {},
   "source": [
    "We may use the same approach - let's now implement the sigmoid layer. It takes inputs and applies the sigmoid activation function on each of them. It is simple to implement it right away, but there is one problem. If you carefully look at the chain rule, the gradients are multiplied by the gradients of the following layer. In other words, by computing the gradient of the sigmoid, we need to compute this:\n",
    "\n",
    "$$\n",
    "\\frac{\\mathcal{L}}{\\partial \\pmb{w}} = \\frac{\\partial \\mathcal{L}}{\\partial \\sigma} \\cdot \\frac{\\partial \\sigma}{\\partial \\pmb{x}\\pmb{w}}\n",
    "$$\n",
    "\n",
    "As a result, the gradient function doesn't accept only the layer's input, but gradient from the following layer as well. Now we may implement the sigmoid activation layer."
   ]
  },
  {
   "cell_type": "code",
   "execution_count": 5,
   "metadata": {},
   "outputs": [],
   "source": [
    "class SigmoidLayer:\n",
    "    def __call__(self, inputs):\n",
    "        return 1 / (1 + np.exp(-inputs))\n",
    "    \n",
    "    def gradient(self, inputs, gradients):\n",
    "        outputs = self(inputs)\n",
    "        my_gradient = outputs * (1 - outputs)\n",
    "        return my_gradient * gradients"
   ]
  },
  {
   "cell_type": "markdown",
   "metadata": {},
   "source": [
    "Now let's look at the softmax layer. This case is a bit complicated, as the gradient is not a vector, but a table. In general, most layers that have multiple inputs and multiple outputs will generate gradient table (note that for each example), as it needs to compute gradient of each output with respect to each input. The sigmoid activation layer, and activation layers in general, are exceptions. Each output corresponds to one input and as such the inputs don't interfere. You may look at it from the other side, the gradient of output $i$ in respect to input $j$ is zero if $i \\neq j$. That results in a table full of zeros except for diagonals.\n",
    "\n",
    "But let's return back to the softmax layer. We already implemented it above, but only for a single example. We need to generalize it for a batch of examples. The only thing we need to make sure about is to divide inputs in the correct axis - the generalization is simple."
   ]
  },
  {
   "cell_type": "code",
   "execution_count": 6,
   "metadata": {},
   "outputs": [],
   "source": [
    "def batch_softmax(inputs):\n",
    "    inputs = inputs - np.max(inputs)\n",
    "    return np.exp(inputs) / np.sum(np.exp(inputs), axis=-1)[:,np.newaxis]"
   ]
  },
  {
   "cell_type": "markdown",
   "metadata": {},
   "source": [
    "Now let's look at the gradient, the formula is above. It would be simpler to rewrite it in the matrix form, so we may implement it in the numpy. Notice that the only difference is on the diagonal (when $i - j$) where we add additional term. In a matrix notation it results in following equation (as you may see in [[1]](#Bibliography) as well):\n",
    "\n",
    "$$\n",
    "\\frac{\\partial softmax(\\pmb{x})}{\\partial \\pmb{x}} = \n",
    "\\begin{pmatrix}\n",
    "o_1 & 0 & \\dots & 0 \\\\ \n",
    "0 & o_2 & \\dots & 0 \\\\\n",
    "\\vdots & \\vdots & \\ddots & \\vdots \\\\\n",
    "0 & 0 & \\dots & o_k\n",
    "\\end{pmatrix}\n",
    "-\n",
    "\\begin{pmatrix}\n",
    "o_1 o_1 & o_1 o_2 & \\dots & o_1 o_k \\\\ \n",
    "o_2 o_1 & o_2 o_2 o_2 & \\dots & o_2 o_k \\\\\n",
    "\\vdots & \\vdots & \\ddots & \\vdots \\\\\n",
    "o_k o_1 & o_k o_2 & \\dots & o_k o_k\n",
    "\\end{pmatrix}\n",
    "$$\n",
    "\n",
    "The vector $\\pmb{o}$ is the output of softmax $softmax(\\pmb{x})=\\pmb{o}$. Notice the symmetry of the matrices, we will exploit it in a minute. If we have variable `outputs` that contains the output of the softmax function, we may implement the matrix notations to the NumPy very simply."
   ]
  },
  {
   "cell_type": "code",
   "execution_count": 7,
   "metadata": {},
   "outputs": [],
   "source": [
    "def softmax_gradient(inputs):\n",
    "    outputs = softmax(inputs)\n",
    "    return np.diag(outputs) - outputs @ outputs"
   ]
  },
  {
   "cell_type": "markdown",
   "metadata": {},
   "source": [
    "There are three things we need to deal with before we may continue. Firstly, the problem is the matrix of the gradient - remember we want the gradient with respect to the inputs of the softmax, so we may pass it to the previous layer (remember the chain rule I showed you before). Now we have a matrix - gradient of each output with respect to each input. All we need is to sum up the gradients over the outputs. As a result, we get a vector, that represents the \"accumulated\" gradient with respect to each input. I may formulate it in other way around - we receive a gradient of how much we want to shift each output. Each output tells us, how much it wants to shift it's input so the output is shifted the correct way (and therefore we get the matrix). In the end, we want to satisfy all the outputs - we sum the effect of each output on the inputs and as a result, we get the vector that represents the gradient with respect to the inputs."
   ]
  },
  {
   "cell_type": "code",
   "execution_count": 8,
   "metadata": {},
   "outputs": [],
   "source": [
    "def softmax_gradient(inputs):\n",
    "    outputs = softmax(inputs)\n",
    "    return np.sum(np.diag(outputs) - outputs @ outputs, axis=1)"
   ]
  },
  {
   "cell_type": "markdown",
   "metadata": {},
   "source": [
    "The second problem that I didn't account for yet is the gradient from the next layer. Once again, remember the chain rule. The gradient of the softmax need's to be multiplied with the gradient of the following layer (for example the cross-entropy loss). We just need to make sure, we multiply the gradient along a correct axis. We think about the matrix above as a gradient of outputs with respect to the inputs, in other words at index $i,j$ is gradient of output $j$ with respect to input $i$, we need to multiply each row and then sum the gradients over columns. As I pointed out, the matrix is in this case symmetric and as such doesn't matter in which way we multiply it - we just need to make sure, we multiply it in the different axis that we are summing it later."
   ]
  },
  {
   "cell_type": "code",
   "execution_count": 9,
   "metadata": {},
   "outputs": [],
   "source": [
    "def softmax_gradient(inputs, gradients):\n",
    "    outputs = softmax(inputs)\n",
    "    my_gradient = np.diag(outputs) - outputs @ outputs\n",
    "    return np.sum(gradients[np.newaxis,:] * my_gradient, axis=1)"
   ]
  },
  {
   "cell_type": "markdown",
   "metadata": {},
   "source": [
    "Finally, the third and the last problem - we didn't count with the batches. The code above won't work for multiple examples, as with softmax, we need to generalize it. We can't rely on vector and matrix multiplication, as we have higher dimensional objects. The code is bellow and it gets a bit nasty, I add comments about the shapes of NumPy arrays, so you may better understand it. I wish I could write it more readable, but this is as far as I could get.\n",
    "\n",
    "There are two more attributes - `params` and `grads`. We don't need them yet and I will talk about them in a while, for now just ignore them."
   ]
  },
  {
   "cell_type": "code",
   "execution_count": 10,
   "metadata": {},
   "outputs": [],
   "source": [
    "class SoftmaxLayer:\n",
    "    def __init__(self):\n",
    "        self.params = []\n",
    "        self.grads = []\n",
    "    \n",
    "    def __call__(self, inputs):\n",
    "        inputs = inputs - np.max(inputs)\n",
    "        return np.exp(inputs) / np.sum(np.exp(inputs), axis=-1)[:,np.newaxis]\n",
    "    \n",
    "    def gradient(self, inputs, gradients):\n",
    "        outputs = self(inputs)  # examples, classes\n",
    "        examples, classes = outputs.shape\n",
    "        diag = np.zeros((examples, classes, classes))  # examples, classes, classes\n",
    "        diag[:, np.arange(classes), np.arange(classes)] = outputs # set the diagonal of each example\n",
    "        my_gradient = diag - outputs[:,:,np.newaxis] * outputs[:,np.newaxis,:]  # examples, classes, classes\n",
    "        return np.sum(gradients[:,np.newaxis,:] * my_gradient, axis=2) # examples, classes"
   ]
  },
  {
   "cell_type": "markdown",
   "metadata": {},
   "source": [
    "# Dense layer\n",
    "\n",
    "Now it is time for our last layer. If you remember, the logistic regression had vector of weights, that was multiplied with the example vector (or matrix when we had batch). For the one-vs-rest approach, we had multiple logistic regressions and when we were processing the examples, we need to pass it through every neuron. As turns out, we can join the weights of all the neurons together into the weights matrix.\n",
    "\n",
    "$$\n",
    "\\mathbb{X}\\mathbb{W}\n",
    "$$\n",
    "\n",
    "Moreover, we may export the bias explicitly and get rid of the additional $1$ that we needed to pad the examples with. As a result, we may express the whole loss of multiclass logistic regression in the following formula.\n",
    "\n",
    "$$\n",
    "\\text{CrossEntropy}(\\text{softmax}(\\mathbb{X}\\mathbb{W}+\\mathbb{b}))\n",
    "$$\n",
    "\n",
    "The layer, that is responsible for the linear combination (the $\\mathbb{X}\\mathbb{W}+\\mathbb{b}$) is called **dense layer** or **fully-connected layer**. That is exactly what we will now focus on.\n",
    "\n",
    "We have the formula for calculating the output of the layer. Now we need to compute the gradient. As we have only linearities, the gradients are simple as well.\n",
    "\n",
    "$$\n",
    "\\frac{\\partial \\mathbb{X}\\mathbb{W}+\\mathbb{b}}{\\partial \\mathbb{W}} = \\mathbb{X} \\\\\n",
    "\\frac{\\partial \\mathbb{X}\\mathbb{W}+\\mathbb{b}}{\\partial \\mathbb{b}} = sign(\\mathbb{b}) \\\\\n",
    "\\frac{\\partial \\mathbb{X}\\mathbb{W}+\\mathbb{b}}{\\partial \\mathbb{X}} = \\mathbb{W}^T\n",
    "$$\n",
    "\n",
    "But now we have three gradients - with respect to weights, to bias, and to inputs. All previous layers don't have learning parameters, so we need only derivatives with respect to the inputs. Now, we need also derivatives with respect to the weights and bias. That's why I defined the `params` and `grads` attributes. Attribute `params` is list of learnable parameters and `grads` attributes contain gradients of these parameters. We will use them during the optimization process.\n",
    "\n",
    "From the implementation of view, both the forward and backward pass is very simple, we just need to make sure the axis align. As with the softmax, I put comments about the implementation and about the resulting shape of the variable. Let's see it."
   ]
  },
  {
   "cell_type": "code",
   "execution_count": 11,
   "metadata": {},
   "outputs": [],
   "source": [
    "class DenseLayer:\n",
    "    def __init__(self,inputs, outputs, random_seed=None):\n",
    "        self._random_state = np.random.RandomState(random_seed)\n",
    "        self._W = self._random_state.uniform(-2,2,size=(inputs, outputs))\n",
    "        self._b = self._random_state.uniform(-2,2,size=(outputs,))\n",
    "        self.params = [self._W, self._b]\n",
    "        self.grads = [np.zeros_like(self._W), np.zeros_like(self._b)]\n",
    "    \n",
    "    def __call__(self, inputs):\n",
    "        return inputs @ self._W + self._b[np.newaxis,:]\n",
    "    \n",
    "    def gradient(self, inputs, gradients):\n",
    "        # gradient in respect to W\n",
    "        w_grad = inputs[:,:,np.newaxis] * gradients[:,np.newaxis,:]  # examples, inputs, outputs\n",
    "        np.add(self.grads[0], np.sum(w_grad, axis=0), out=self.grads[0])  # inputs, outputs\n",
    "        # gradient in respect to b\n",
    "        b_grad = gradients  # examples, outputs\n",
    "        np.add(self.grads[1], np.sum(b_grad, axis=0), out=self.grads[1])  # outputs\n",
    "        # gradient in respect to inputs\n",
    "        in_grad = self._W[np.newaxis,:,:] * gradients[:,np.newaxis,:] + np.sign(self._b)[np.newaxis, np.newaxis, :]  # examples, inputs, outputs\n",
    "        return np.sum(in_grad, axis=2) # examples, inputs"
   ]
  },
  {
   "cell_type": "markdown",
   "metadata": {},
   "source": [
    "There is a small space for optimization. We may tell NumPy to use existing memory instead of creating ita gain and again at every pass. This optimization comes handy, as the dense layer is the most computationally demanding layer. The following code is equivalent to the previous one but uses cache memory in the size of *(examples,inputs,outputs)* to speed up the computation."
   ]
  },
  {
   "cell_type": "code",
   "execution_count": 12,
   "metadata": {},
   "outputs": [],
   "source": [
    "class DenseLayer:\n",
    "    def __init__(self,inputs, outputs, random_seed=None):\n",
    "        self._random_state = np.random.RandomState(random_seed)\n",
    "        self._W = self._random_state.uniform(-2,2,size=(inputs, outputs))\n",
    "        self._b = self._random_state.uniform(-2,2,size=(outputs,))\n",
    "        self.params = [self._W, self._b]\n",
    "        self.grads = [np.zeros_like(self._W), np.zeros_like(self._b)]\n",
    "        self._cache = None\n",
    "    \n",
    "    def __call__(self, inputs):\n",
    "        return inputs @ self._W + self._b[np.newaxis,:]\n",
    "    \n",
    "    def gradient(self, inputs, gradients):\n",
    "        # create the cache\n",
    "        if self._cache is None or self._cache.shape[0] != inputs.shape[0]:\n",
    "            self._cache = np.ndarray((inputs.shape[0],inputs.shape[1], gradients.shape[1]))\n",
    "        # gradient in respect to W\n",
    "        w_grad = np.multiply(inputs[:,:,np.newaxis], gradients[:,np.newaxis,:], out=self._cache)  # examples, inputs, outputs\n",
    "        np.add(self.grads[0], np.sum(w_grad, axis=0), out=self.grads[0])  # inputs, outputs\n",
    "        # gradient in respect to b\n",
    "        b_grad = gradients  # examples, outputs\n",
    "        np.add(self.grads[1], np.sum(b_grad, axis=0), out=self.grads[1])  # outputs\n",
    "        # gradient in respect to inputs\n",
    "        in_grad = np.multiply(self._W[np.newaxis,:,:], gradients[:,np.newaxis,:], out=self._cache)  # examples, inputs, outputs\n",
    "        return np.sum(in_grad, axis=2) # examples, inputs"
   ]
  },
  {
   "cell_type": "markdown",
   "metadata": {},
   "source": [
    "Now we have all the layers we need. Last thing we need to refactor is the gradient descent algorithm."
   ]
  },
  {
   "cell_type": "markdown",
   "metadata": {},
   "source": [
    "# Gradient descent optimizer\n",
    "\n",
    "This refactoring will be very fast. We still don't have the `Model` class, but I may tell you in advance that it would have `layers` property, that would be a list of individual layers. As each layer has `params` and `grads` attributes (that's why they are even in the softmax layer), the optimizer can use that. The optimizer will have `optim` method, that accepts the model and perform one step of the gradient descent algorithm.\n",
    "\n",
    "We will have better optimizers later on, that's why I wanted to export it outside of the model itself. Our gradient descent algorithm can look like this:"
   ]
  },
  {
   "cell_type": "code",
   "execution_count": 13,
   "metadata": {},
   "outputs": [],
   "source": [
    "class SGD:\n",
    "    def __init__(self, learning_rate):\n",
    "        self.learning_rate = learning_rate\n",
    "        \n",
    "    def optim(self, model):\n",
    "        for layer in model.layers:\n",
    "            for params, grad in zip(layer.params, layer.grads):\n",
    "                np.add(params, - self.learning_rate * grad, out=params)"
   ]
  },
  {
   "cell_type": "markdown",
   "metadata": {},
   "source": [
    "# Model\n",
    "\n",
    "We are almost finished. Now we will define `Model` class, which would represent the model itself. It will contain layers in the `layers` attribute, as I mentioned before. Other than that, It will have standard methods we have seen in the logistic regression.\n",
    "\n",
    "The prediction is done layer by layer, the code can look something like this:"
   ]
  },
  {
   "cell_type": "markdown",
   "metadata": {},
   "source": [
    "```Python\n",
    "current_grad = loss.gradient(batch_target, outputs[-1])\n",
    "for layer, layer_input in zip(self.layers[::-1], outputs[-2::-1]):\n",
    "    current_grad = layer.gradient(layer_input, current_grad)\n",
    "```"
   ]
  },
  {
   "cell_type": "markdown",
   "metadata": {},
   "source": [
    "We will remember the outputs of layers (there are inputs to the following layers) in the `outputs` variable and use them during the backpropagation phase. Firstly, we will compute the gradient of the loss and then pass it to the `gradient` method of the last layer. The gradient will propagate through the layers (from the last to the first layer) until we have gradients of weights. As our code accumulates the gradients of the weights (notice the `np.add` call in all the classes above), we need to zero the gradients first. The code can look similar to this: "
   ]
  },
  {
   "cell_type": "markdown",
   "metadata": {},
   "source": [
    "```Python\n",
    "self.zero_grad()\n",
    "current_grad = loss.gradient(batch_target, outputs[-1])\n",
    "for layer, layer_input in zip(self.layers[::-1], outputs[-2::-1]):\n",
    "    current_grad = layer.gradient(layer_input, current_grad)\n",
    "```"
   ]
  },
  {
   "cell_type": "markdown",
   "metadata": {},
   "source": [
    "In the end, we call our optimizer to update the weights. The rest of the code should be straightforward, as it is just copied from the previous notebooks."
   ]
  },
  {
   "cell_type": "code",
   "execution_count": 14,
   "metadata": {},
   "outputs": [],
   "source": [
    "class MulticlassLogisticRegression:\n",
    "    def __init__(self, input_dim, classes, loss, metrices = [], random_seed = None):\n",
    "        self._rand = np.random.RandomState(random_seed);\n",
    "        self.loss = loss\n",
    "        self.metrices = metrices\n",
    "        self.layers = [\n",
    "            DenseLayer(input_dim, classes, self._rand.randint(100000)),\n",
    "            SoftmaxLayer()\n",
    "        ]\n",
    "        \n",
    "    def zero_grad(self):\n",
    "        for layer in self.layers:\n",
    "            for grad in layer.grads:\n",
    "                grad.fill(0)\n",
    "    \n",
    "    def fit(self, X, y, optimizer, Xtest=None, ytest=None, epochs=100, batch_size=32, progress=False):\n",
    "        # get how many data we have\n",
    "        n_train_data = len(X)\n",
    "        n_test_data = 1 if ytest is None else len(ytest)\n",
    "        # store gradients and losses\n",
    "        train_losses = np.zeros((epochs,))\n",
    "        test_losses = np.zeros((epochs,))\n",
    "        train_metrices = np.zeros((len(self.metrices), epochs))\n",
    "        test_metrices = np.zeros((len(self.metrices), epochs))\n",
    "        # decide whatever to log progress\n",
    "        epoch_counter = progressbar(range(epochs)) if progress else range(epochs)\n",
    "        # Learning\n",
    "        outputs = [None] * (len(self.layers) + 1)\n",
    "        for epoch in epoch_counter:\n",
    "            # shuffle the data\n",
    "            permutation = self._rand.permutation(n_train_data)\n",
    "            # for each batch\n",
    "            for batch_start in range(0, n_train_data, batch_size):\n",
    "                # get batch\n",
    "                batch_data = X[permutation[batch_start:batch_start+batch_size]]\n",
    "                batch_target = y[permutation[batch_start:batch_start+batch_size]]\n",
    "                # forward pass\n",
    "                outputs[0] = batch_data\n",
    "                for layer, i in zip(self.layers, range(len(self.layers))):\n",
    "                    outputs[i+1] = layer(outputs[i])\n",
    "                # backward pass\n",
    "                self.zero_grad()\n",
    "                current_grad = self.loss.gradient(batch_target, outputs[-1])\n",
    "                for layer, layer_input in zip(self.layers[::-1], outputs[-2::-1]):\n",
    "                    current_grad = layer.gradient(layer_input, current_grad)\n",
    "                # update the weights\n",
    "                optimizer.optim(self)\n",
    "                # store loss\n",
    "                train_losses[epoch] += np.sum(self.loss(batch_target, outputs[-1]))\n",
    "                # compute the metrices\n",
    "                for metric in self.metrices:\n",
    "                    metric(batch_target, outputs[-1])\n",
    "            # store train metrices\n",
    "            for num_metric, metric in enumerate(self.metrices):\n",
    "                train_metrices[num_metric, epoch] = metric.summary()\n",
    "                \n",
    "            # evaluate on the test set\n",
    "            if Xtest is not None and ytest is not None:\n",
    "                # for each batch\n",
    "                for batch_start in range(0, n_test_data, batch_size):\n",
    "                    # get batch\n",
    "                    batch_data = Xtest[batch_start:batch_start+ batch_size]\n",
    "                    batch_target = ytest[batch_start:batch_start + batch_size]\n",
    "                    # predict the data\n",
    "                    prediction = self.predict(batch_data)\n",
    "                    # store loss\n",
    "                    test_losses[epoch] += np.sum(self.loss(batch_target, prediction))\n",
    "                    # compute the metrices\n",
    "                    for metric in self.metrices:\n",
    "                        metric(batch_target, prediction)\n",
    "                # store test metrices\n",
    "                for num_metric, metric in enumerate(self.metrices):\n",
    "                    test_metrices[num_metric, epoch] = metric.summary()\n",
    "          \n",
    "        results = {\n",
    "            \"train_loss\": train_losses / n_train_data, \n",
    "            \"test_loss\": test_losses / n_test_data,      \n",
    "        }\n",
    "        results.update({f\"train_{metric.name}\": train_metrices[num_metric] for num_metric in range(len(self.metrices))})\n",
    "        results.update({f\"test_{metric.name}\": test_metrices[num_metric] for num_metric in range(len(self.metrices))})\n",
    "        return results\n",
    "    \n",
    "    def predict(self, X):\n",
    "        for layer in self.layers:\n",
    "            X = layer(X)\n",
    "        return X"
   ]
  },
  {
   "cell_type": "markdown",
   "metadata": {},
   "source": [
    "I had some doubts about which parameters should be in the constructor and which one in the `fit` method, so don't be afraid of the differences with the model in the previous notebook. "
   ]
  },
  {
   "cell_type": "markdown",
   "metadata": {},
   "source": [
    "# Training\n",
    "\n",
    "Now let's put out model in action. First, we need the data. Notice that I don't pad them by 1 this time - the bias term in the dense network cares of it."
   ]
  },
  {
   "cell_type": "code",
   "execution_count": 15,
   "metadata": {},
   "outputs": [],
   "source": [
    "X, y = sklearn.datasets.fetch_openml('mnist_784', version=1, return_X_y=True, as_frame=False)\n",
    "y, X = y.astype(int), X.reshape(-1, 784)\n",
    "X[X < 128] = 0\n",
    "X[X > 0] = 1\n",
    "train_data, test_data, train_target, test_target = sklearn.model_selection.train_test_split(X, y, test_size=0.3, random_state=47)"
   ]
  },
  {
   "cell_type": "markdown",
   "metadata": {},
   "source": [
    "We will also need our accuracy metric. As we modified the output of the model a little bit (we return probability distribution instead of class), the accuracy is a bit different than in the previous notebook. I ass `np.argmax` call to get the predicted class."
   ]
  },
  {
   "cell_type": "code",
   "execution_count": 16,
   "metadata": {},
   "outputs": [],
   "source": [
    "class AccuracyMetric:\n",
    "    def __init__(self, name=None):\n",
    "        self.name = name or \"accuracy\"\n",
    "        self.correct = 0\n",
    "        self.num = 0\n",
    "    def __call__(self, target, predicted):\n",
    "        self.correct += np.sum(np.argmax(predicted,axis=1) == target)\n",
    "        self.num += len(target)\n",
    "    def summary(self):\n",
    "        acc = self.correct / self.num\n",
    "        self.correct = 0\n",
    "        self.num = 0\n",
    "        return acc"
   ]
  },
  {
   "cell_type": "markdown",
   "metadata": {},
   "source": [
    "Now we may create the optimizer, model, and train it."
   ]
  },
  {
   "cell_type": "code",
   "execution_count": 18,
   "metadata": {},
   "outputs": [
    {
     "name": "stderr",
     "output_type": "stream",
     "text": [
      "100% (400 of 400) |######################| Elapsed Time: 0:23:45 Time:  0:23:45\n"
     ]
    }
   ],
   "source": [
    "optimizer = SGD(learning_rate=0.001)\n",
    "model = MulticlassLogisticRegression(784, 10, loss=CategoricalCrossEntropyLoss(), metrices=[AccuracyMetric()], random_seed=42)\n",
    "result = model.fit(train_data, train_target, optimizer, test_data, test_target, epochs=400, batch_size=128, progress=True)"
   ]
  },
  {
   "cell_type": "markdown",
   "metadata": {},
   "source": [
    "If you remember, the running time of 10 logistic regression were around 11 minutes in the previous notebook. It may be surprising the 27 minutes in this case. The fact is, that we compute something, we don't need to right now. When we call the `gradient` method on the dense layer, it returns the gradient for the previous layer - but we don't have any. This computation is the most demanding one and accounts for the additional 15 minutes of the training. I could just ignore it and do not implement it, but we are going to need it in the following notebook.\n",
    "\n",
    "Let's now look at the results."
   ]
  },
  {
   "cell_type": "code",
   "execution_count": 19,
   "metadata": {},
   "outputs": [
    {
     "name": "stdout",
     "output_type": "stream",
     "text": [
      "Train accuracy: 0.9334285714285714, Test accuracy: 0.9087142857142857\n"
     ]
    }
   ],
   "source": [
    "print(f\"Train accuracy: {result['train_accuracy'][-1]}, Test accuracy: {result['test_accuracy'][-1]}\")"
   ]
  },
  {
   "cell_type": "code",
   "execution_count": 20,
   "metadata": {},
   "outputs": [
    {
     "data": {
      "image/png": "[encoded data removed]",
      "text/plain": [
       "<Figure size 864x576 with 1 Axes>"
      ]
     },
     "metadata": {
      "needs_background": "light"
     },
     "output_type": "display_data"
    },
    {
     "data": {
      "image/png": "[encoded data removed]",
      "text/plain": [
       "<Figure size 864x576 with 1 Axes>"
      ]
     },
     "metadata": {
      "needs_background": "light"
     },
     "output_type": "display_data"
    }
   ],
   "source": [
    "plt.figure(figsize=(12,8))\n",
    "plt.plot(result['train_loss'], label=\"train loss\")\n",
    "plt.plot(result['test_loss'], label=\"test loss\")\n",
    "plt.yscale('log')\n",
    "ticks = [0.16, 0.225, 0.32, 0.45, 0.64, 0.9, 1.28, 1.8, 2.56, 3.6, 5.12]\n",
    "plt.yticks(ticks=ticks, labels=ticks)\n",
    "plt.legend()\n",
    "plt.show()\n",
    "\n",
    "plt.figure(figsize=(12,8))\n",
    "plt.plot(result['train_accuracy'], label=\"train accuracy\")\n",
    "plt.plot(result['test_accuracy'], label=\"test accuracy\")\n",
    "plt.legend()\n",
    "plt.show()"
   ]
  },
  {
   "cell_type": "markdown",
   "metadata": {},
   "source": [
    "As we may see, the accuracies are close to the one-vs-rest approach we used in the last notebook. This is correct, as we just refactor the implementation from the last notebook - under the hood, it is still the same model."
   ]
  },
  {
   "cell_type": "markdown",
   "metadata": {},
   "source": [
    "# Before we move on\n",
    "\n",
    "We are finally going to see real neural networks in the following notebook. But before you open it, I have one request.\n",
    "\n",
    "> **Please make sure you understand everything in this notebook.**\n",
    "\n",
    "Even read this notebook once again. Make sure you are fully aware of activation functions, softmax, dense layer, losses, optimizers and you really know, how the gradients are computed along the way. Makes also sure to understand how weights, layers, models, optimizers, losses assembly together to create the resulting trained model.\n",
    "\n",
    "This is probably the hardest and technical notebook you will see and I know it was challenging. Please, if you had problems with the formulations or you were missing something, don't hesitate to contact me. The concepts discussed here will be the fundamentals of neural networks that we are going to use over and over again and you should understand them before moving forward."
   ]
  },
  {
   "cell_type": "markdown",
   "metadata": {},
   "source": [
    "# Bibliography\n",
    "\n",
    "- \\[1\\] The Softmax Function Derivative, Stephen Oman, 17th June 2019, [online](https://aimatters.wordpress.com/2019/06/17/the-softmax-function-derivative/)"
   ]
  }
 ],
 "metadata": {
  "kernelspec": {
   "display_name": "Python 3",
   "language": "python",
   "name": "python3"
  },
  "language_info": {
   "codemirror_mode": {
    "name": "ipython",
    "version": 3
   },
   "file_extension": ".py",
   "mimetype": "text/x-python",
   "name": "python",
   "nbconvert_exporter": "python",
   "pygments_lexer": "ipython3",
   "version": "3.8.8"
  }
 },
 "nbformat": 4,
 "nbformat_minor": 4
}
