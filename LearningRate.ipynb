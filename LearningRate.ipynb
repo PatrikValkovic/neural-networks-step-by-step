{
 "cells": [
  {
   "cell_type": "markdown",
   "metadata": {},
   "source": [
    "Now let's talk about the learning rate. During the training process, instead of moving the norm by the value of vector $\\pmb{x}$, we will add (or subtract) only a fraction of the data point. That is, the update rule in the algorithm changes from $\\pmb{w}=\\pmb{w}+(target - prediction) \\cdot \\pmb{x}$ to $\\pmb{w}=\\pmb{w}+\\alpha \\cdot (target - prediction) \\cdot \\pmb{x}$ where $\\alpha$ is the learning rate. We can set up constant learning rate - small value like $10^{-5}$ or we can use adaptive learning rate, that will decrease during the training. The formula for adaptive learning rate should satisfy following conditions (see [[1]](#Bibliography)).\n",
    "\n",
    "$$\n",
    "\\lim_{t\\to\\infty}\\alpha_t = 0; \\sum_{t=1}^\\infty \\alpha_t=\\infty; \\sum_{t=1}^\\infty \\alpha_t^2 \\lt \\infty\n",
    "$$\n",
    "\n",
    "One possibility is to use $\\alpha=\\frac{1}{k}$ but from the practical point of view, the learning rate may decrease too fast. Another possibility is $\\alpha=\\frac{1}{\\sqrt{k}}$, although it doesn't satisfy the second condition.\n",
    "\n",
    "To keep updates decreasing, we must normalize the norm itself (after each update or after each iteration), so the size of update is kept same and doesn't depend on the size of the norm (but rather on the directions). Keep in mind that algorithm with this modification doesn't need to converge (for properly prepared data). Practically, if the data are trully random and the dataset is big enough (at least 50 datapoints), I wouldn't be afraid of this happen. We may decrease the probability even more by taking the data randomly at each iteration."
   ]
  },
  {
   "cell_type": "markdown",
   "metadata": {},
   "source": [
    "# Bibliography\n",
    "\n",
    "[1] A Stochastic Approximation Method, Herbert Robbins and Sutton Monro, 1951"
   ]
  }
 ],
 "metadata": {
  "kernelspec": {
   "display_name": "Python 3",
   "language": "python",
   "name": "python3"
  },
  "language_info": {
   "codemirror_mode": {
    "name": "ipython",
    "version": 3
   },
   "file_extension": ".py",
   "mimetype": "text/x-python",
   "name": "python",
   "nbconvert_exporter": "python",
   "pygments_lexer": "ipython3",
   "version": "3.7.5"
  }
 },
 "nbformat": 4,
 "nbformat_minor": 2
}
