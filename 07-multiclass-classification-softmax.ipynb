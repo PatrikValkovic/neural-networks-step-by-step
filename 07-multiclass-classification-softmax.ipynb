{
 "cells": [
  {
   "cell_type": "code",
   "execution_count": 2,
   "metadata": {},
   "outputs": [],
   "source": [
    "%config IPCompleter.greedy=True\n",
    "%load_ext autoreload\n",
    "%autoreload 2\n",
    "\n",
    "import numpy as np\n",
    "import matplotlib.pyplot as plt\n",
    "import sklearn.preprocessing, sklearn.datasets, sklearn.model_selection\n",
    "import timeit\n",
    "from progressbar import progressbar"
   ]
  },
  {
   "cell_type": "markdown",
   "metadata": {},
   "source": [
    "In this notebook, we will be dealing with multiclass classification. We will have finally model, that can distinguish between all the numbers from the MNIST dataset and we will not need to deal with 4 and 9 only. The proper way of handling this problem is to use *softmax* function. I will show different approaches before, so we can compare them."
   ]
  },
  {
   "cell_type": "markdown",
   "metadata": {},
   "source": [
    "Firstly, we need the data. The template is still the same, so I will not describe it anymore."
   ]
  },
  {
   "cell_type": "code",
   "execution_count": 25,
   "metadata": {},
   "outputs": [],
   "source": [
    "data, target = sklearn.datasets.fetch_openml('mnist_784', version=1, return_X_y=True)\n",
    "target = target.astype(int)\n",
    "data = data.reshape(-1, 784)\n",
    "data[data < 128] = 0\n",
    "data[data > 0] = 1\n",
    "data = np.hstack([data, np.ones((data.shape[0],1))])\n",
    "train_data, test_data, train_target, test_target = sklearn.model_selection.train_test_split(data, target.astype(int), test_size=0.3, random_state=47)"
   ]
  },
  {
   "cell_type": "markdown",
   "metadata": {},
   "source": [
    "# Perceptron\n",
    "\n",
    "If you remember, we dealt with this problem in one of the previous notebook, when we were talking about perceptron algorithm. Just as a reminder, let's do it once again here, co we may compare the reults. I moved it into separate class, so I dont need to copy-paste it here once again. If you are interested, it is in the [src/perceptron.py](src/perceptron.py) file."
   ]
  },
  {
   "cell_type": "code",
   "execution_count": 3,
   "metadata": {},
   "outputs": [
    {
     "name": "stdout",
     "output_type": "stream",
     "text": [
      "Train accuracy: 0.9741020408163266, Test accuracy: 0.911\n"
     ]
    }
   ],
   "source": [
    "from src.perceptron_05 import multiclass_perceptron\n",
    "\n",
    "train_acc, test_acc = multiclass_perceptron(train_data, train_target, test_data, test_target, iters=500, random_state=42)\n",
    "\n",
    "print(f\"Train accuracy: {train_acc}, Test accuracy: {test_acc}\")"
   ]
  },
  {
   "cell_type": "markdown",
   "metadata": {},
   "source": [
    "The results don't tell much yet. The test accuracy is maybe too low compare to the train accuracy, but we will se how different models will behave."
   ]
  },
  {
   "cell_type": "markdown",
   "metadata": {},
   "source": [
    "# One-vs-one"
   ]
  },
  {
   "cell_type": "code",
   "execution_count": 11,
   "metadata": {},
   "outputs": [],
   "source": [
    "from src.neuron_05 import Neuron"
   ]
  },
  {
   "cell_type": "code",
   "execution_count": 7,
   "metadata": {},
   "outputs": [],
   "source": [
    "class BCELoss:\n",
    "    def __call__(self, target, predicted):\n",
    "        return np.sum(-target * np.log(np.maximum(predicted, 1e-15)) - (1 - target) * np.log(np.maximum(1 - predicted, 1e-15)), axis=0)\n",
    "    def gradient(self, target, predicted):\n",
    "        return - target / (np.maximum(predicted, 1e-15)) + (1 - target) / (np.maximum(1 - predicted, 1e-15))"
   ]
  },
  {
   "cell_type": "code",
   "execution_count": 13,
   "metadata": {},
   "outputs": [
    {
     "name": "stderr",
     "output_type": "stream",
     "text": [
      "100% (200 of 200) |######################| Elapsed Time: 0:00:51 Time:  0:00:51\n",
      "100% (200 of 200) |######################| Elapsed Time: 0:00:46 Time:  0:00:46\n",
      "100% (200 of 200) |######################| Elapsed Time: 0:00:51 Time:  0:00:51\n",
      "100% (200 of 200) |######################| Elapsed Time: 0:00:30 Time:  0:00:30\n",
      "100% (200 of 200) |######################| Elapsed Time: 0:00:21 Time:  0:00:21\n",
      "100% (200 of 200) |######################| Elapsed Time: 0:00:18 Time:  0:00:18\n",
      "100% (200 of 200) |######################| Elapsed Time: 0:00:17 Time:  0:00:17\n",
      "100% (200 of 200) |######################| Elapsed Time: 0:00:18 Time:  0:00:18\n",
      "100% (200 of 200) |######################| Elapsed Time: 0:00:17 Time:  0:00:17\n",
      "100% (200 of 200) |######################| Elapsed Time: 0:00:20 Time:  0:00:20\n",
      "100% (200 of 200) |######################| Elapsed Time: 0:00:20 Time:  0:00:20\n",
      "100% (200 of 200) |######################| Elapsed Time: 0:00:21 Time:  0:00:21\n",
      "100% (200 of 200) |######################| Elapsed Time: 0:00:27 Time:  0:00:27\n",
      "100% (200 of 200) |######################| Elapsed Time: 0:00:18 Time:  0:00:18\n",
      "100% (200 of 200) |######################| Elapsed Time: 0:00:17 Time:  0:00:17\n",
      "100% (200 of 200) |######################| Elapsed Time: 0:00:22 Time:  0:00:22\n",
      "100% (200 of 200) |######################| Elapsed Time: 0:00:30 Time:  0:00:30\n",
      "100% (200 of 200) |######################| Elapsed Time: 0:00:24 Time:  0:00:24\n",
      "100% (200 of 200) |######################| Elapsed Time: 0:00:24 Time:  0:00:24\n",
      "100% (200 of 200) |######################| Elapsed Time: 0:00:18 Time:  0:00:18\n",
      "100% (200 of 200) |######################| Elapsed Time: 0:00:23 Time:  0:00:23\n",
      "100% (200 of 200) |######################| Elapsed Time: 0:00:27 Time:  0:00:27\n",
      "100% (200 of 200) |######################| Elapsed Time: 0:00:27 Time:  0:00:27\n",
      "100% (200 of 200) |######################| Elapsed Time: 0:00:29 Time:  0:00:29\n",
      "100% (200 of 200) |######################| Elapsed Time: 0:00:27 Time:  0:00:27\n",
      "100% (200 of 200) |######################| Elapsed Time: 0:00:23 Time:  0:00:23\n",
      "100% (200 of 200) |######################| Elapsed Time: 0:00:21 Time:  0:00:21\n",
      "100% (200 of 200) |######################| Elapsed Time: 0:00:24 Time:  0:00:24\n",
      "100% (200 of 200) |######################| Elapsed Time: 0:00:24 Time:  0:00:24\n",
      "100% (200 of 200) |######################| Elapsed Time: 0:00:29 Time:  0:00:29\n",
      "100% (200 of 200) |######################| Elapsed Time: 0:00:24 Time:  0:00:24\n",
      "100% (200 of 200) |######################| Elapsed Time: 0:00:28 Time:  0:00:28\n",
      "100% (200 of 200) |######################| Elapsed Time: 0:00:25 Time:  0:00:25\n",
      "100% (200 of 200) |######################| Elapsed Time: 0:00:25 Time:  0:00:25\n",
      "100% (200 of 200) |######################| Elapsed Time: 0:00:29 Time:  0:00:29\n",
      "100% (200 of 200) |######################| Elapsed Time: 0:00:41 Time:  0:00:41\n",
      "100% (200 of 200) |######################| Elapsed Time: 0:00:43 Time:  0:00:43\n",
      "100% (200 of 200) |######################| Elapsed Time: 0:00:48 Time:  0:00:48\n",
      "100% (200 of 200) |######################| Elapsed Time: 0:00:40 Time:  0:00:40\n",
      "100% (200 of 200) |######################| Elapsed Time: 0:00:44 Time:  0:00:44\n",
      "100% (200 of 200) |######################| Elapsed Time: 0:00:37 Time:  0:00:37\n",
      "100% (200 of 200) |######################| Elapsed Time: 0:00:45 Time:  0:00:45\n",
      "100% (200 of 200) |######################| Elapsed Time: 0:00:40 Time:  0:00:40\n",
      "100% (200 of 200) |######################| Elapsed Time: 0:00:45 Time:  0:00:45\n",
      "100% (200 of 200) |######################| Elapsed Time: 0:00:40 Time:  0:00:40\n"
     ]
    }
   ],
   "source": [
    "# train models\n",
    "models = np.empty((10,10), dtype=object)\n",
    "for i in range(10):\n",
    "    for j in range(i):\n",
    "        models[i][j] = Neuron(BCELoss(), epochs=200, learning_rate=0.001, batch_size=128, random_state=42+i*10+j)\n",
    "        mask = np.logical_or(train_target == i, train_target == j)\n",
    "        current_X = train_data[mask]\n",
    "        current_y = (train_target[mask] - j) / (i - j)\n",
    "        models[i][j].fit(current_X, current_y, progress=True)"
   ]
  },
  {
   "cell_type": "code",
   "execution_count": 18,
   "metadata": {},
   "outputs": [],
   "source": [
    "# predict\n",
    "train_predictions = np.zeros((train_target.shape[0], 10), dtype=int)\n",
    "test_predictions = np.zeros((test_target.shape[0], 10), dtype=int)\n",
    "for i in range(10):\n",
    "    for j in range(i):\n",
    "        prediction = np.around(models[i][j].predict(train_data))\n",
    "        train_predictions[prediction == 0, j] += 1\n",
    "        train_predictions[prediction == 1, i] += 1\n",
    "        prediction = np.around(models[i][j].predict(test_data))\n",
    "        test_predictions[prediction == 0, j] += 1\n",
    "        test_predictions[prediction == 1, i] += 1\n",
    "train_predictions = train_predictions.argmax(axis=1)\n",
    "test_predictions = test_predictions.argmax(axis=1)"
   ]
  },
  {
   "cell_type": "code",
   "execution_count": 19,
   "metadata": {},
   "outputs": [],
   "source": [
    "train_acc = sklearn.metrics.accuracy_score(train_target, train_predictions)\n",
    "test_acc = sklearn.metrics.accuracy_score(test_target, test_predictions)"
   ]
  },
  {
   "cell_type": "code",
   "execution_count": 20,
   "metadata": {},
   "outputs": [
    {
     "name": "stdout",
     "output_type": "stream",
     "text": [
      "Train accuracy: 0.945, Test accuracy: 0.9122857142857143\n"
     ]
    }
   ],
   "source": [
    "print(f\"Train accuracy: {train_acc}, Test accuracy: {test_acc}\")"
   ]
  },
  {
   "cell_type": "code",
   "execution_count": null,
   "metadata": {},
   "outputs": [],
   "source": []
  },
  {
   "cell_type": "code",
   "execution_count": 22,
   "metadata": {},
   "outputs": [],
   "source": [
    "# predict\n",
    "train_predictions = np.zeros((train_target.shape[0], 10), dtype=float)\n",
    "test_predictions = np.zeros((test_target.shape[0], 10), dtype=float)\n",
    "for i in range(10):\n",
    "    for j in range(i):\n",
    "        prediction = models[i][j].predict(train_data)\n",
    "        train_predictions[:, j] += 1-prediction\n",
    "        train_predictions[:, i] += prediction\n",
    "        prediction = models[i][j].predict(test_data)\n",
    "        test_predictions[:, j] += 1-prediction\n",
    "        test_predictions[:, i] += prediction\n",
    "train_predictions = train_predictions.argmax(axis=1)\n",
    "test_predictions = test_predictions.argmax(axis=1)"
   ]
  },
  {
   "cell_type": "code",
   "execution_count": 23,
   "metadata": {},
   "outputs": [],
   "source": [
    "train_acc = sklearn.metrics.accuracy_score(train_target, train_predictions)\n",
    "test_acc = sklearn.metrics.accuracy_score(test_target, test_predictions)"
   ]
  },
  {
   "cell_type": "code",
   "execution_count": 24,
   "metadata": {},
   "outputs": [
    {
     "name": "stdout",
     "output_type": "stream",
     "text": [
      "Train accuracy: 0.9465714285714286, Test accuracy: 0.9174761904761904\n"
     ]
    }
   ],
   "source": [
    "print(f\"Train accuracy: {train_acc}, Test accuracy: {test_acc}\")"
   ]
  },
  {
   "cell_type": "markdown",
   "metadata": {},
   "source": [
    "# Tree based approach"
   ]
  },
  {
   "cell_type": "code",
   "execution_count": 150,
   "metadata": {},
   "outputs": [],
   "source": [
    "class TreeInOrder:\n",
    "    def __init__(self, loss, metrices=[], epochs=100, random_state=None, learning_rate=0.001, batch_size=16):\n",
    "        self.loss = loss\n",
    "        self.metrices = metrices\n",
    "        self.epochs = epochs\n",
    "        self.random_state = np.random.RandomState(random_state)\n",
    "        self.learning_rate = learning_rate\n",
    "        self.batch_size = batch_size\n",
    "        # models\n",
    "        self.zerotofiveVSfivetoten = None\n",
    "        self.zerotothreeVSthreetofive = None\n",
    "        self.fivetoeightVSeighttoten = None\n",
    "        self.zerototwoVStwo = None\n",
    "        self.fivetosevenVSseven = None\n",
    "        self.zeroVSone = None\n",
    "        self.threeVSfour = None\n",
    "        self.fiveVSsix = None\n",
    "        self.eightVSnine = None\n",
    "        \n",
    "    def fit(self, X, y, progress=False):\n",
    "        # model\n",
    "        data = X.copy()\n",
    "        target = y.copy()\n",
    "        mask_zeros = np.any((target == 0, target == 1, target == 2, target == 3, target == 4), axis=0)\n",
    "        mask_ones = np.any((target == 5, target == 6, target == 7, target == 8, target == 9), axis=0)\n",
    "        data = data[mask_zeros | mask_ones]\n",
    "        target[mask_zeros] = 0\n",
    "        target[mask_ones] = 1\n",
    "        target = target[mask_zeros | mask_ones]\n",
    "        self.zerotofiveVSfivetoten = Neuron(self.loss, self.metrices, self.epochs, self.random_state.randint(0, 1000), self.learning_rate, self.batch_size)\n",
    "        self.zerotofiveVSfivetoten.fit(data, target, progress=progress)\n",
    "        # model\n",
    "        data = X.copy()\n",
    "        target = y.copy()\n",
    "        mask_zeros = np.any((target == 0, target == 1, target == 2), axis=0)\n",
    "        mask_ones = np.any((target == 3, target == 4), axis=0)\n",
    "        data = data[mask_zeros | mask_ones]\n",
    "        target[mask_zeros] = 0\n",
    "        target[mask_ones] = 1\n",
    "        target = target[mask_zeros | mask_ones]\n",
    "        self.zerotothreeVSthreetofive = Neuron(self.loss, self.metrices, self.epochs, self.random_state.randint(0, 1000), self.learning_rate, self.batch_size)\n",
    "        self.zerotothreeVSthreetofive.fit(data, target, progress=progress)\n",
    "        # model\n",
    "        data = X.copy()\n",
    "        target = y.copy()\n",
    "        mask_zeros = np.any((target == 5, target == 6, target == 7), axis=0)\n",
    "        mask_ones = np.any((target == 8, target == 9), axis=0)\n",
    "        data = data[mask_zeros | mask_ones]\n",
    "        target[mask_zeros] = 0\n",
    "        target[mask_ones] = 1\n",
    "        target = target[mask_zeros | mask_ones]\n",
    "        self.fivetoeightVSeighttoten = Neuron(self.loss, self.metrices, self.epochs, self.random_state.randint(0, 1000), self.learning_rate, self.batch_size)\n",
    "        self.fivetoeightVSeighttoten.fit(data, target, progress=progress)\n",
    "        # model\n",
    "        data = X.copy()\n",
    "        target = y.copy()\n",
    "        mask_zeros = np.any((target == 0, target == 1), axis=0)\n",
    "        mask_ones = np.any((target == 2,), axis=0)\n",
    "        data = data[mask_zeros | mask_ones]\n",
    "        target[mask_zeros] = 0\n",
    "        target[mask_ones] = 1\n",
    "        target = target[mask_zeros | mask_ones]\n",
    "        self.zerototwoVStwo = Neuron(self.loss, self.metrices, self.epochs, self.random_state.randint(0, 1000), self.learning_rate, self.batch_size)\n",
    "        self.zerototwoVStwo.fit(data, target, progress=progress)\n",
    "        # model\n",
    "        data = X.copy()\n",
    "        target = y.copy()\n",
    "        mask_zeros = np.any((target == 5, target == 6), axis=0)\n",
    "        mask_ones = np.any((target == 7,), axis=0)\n",
    "        data = data[mask_zeros | mask_ones]\n",
    "        target[mask_zeros] = 0\n",
    "        target[mask_ones] = 1\n",
    "        target = target[mask_zeros | mask_ones]\n",
    "        self.fivetosevenVSseven = Neuron(self.loss, self.metrices, self.epochs, self.random_state.randint(0, 1000), self.learning_rate, self.batch_size)\n",
    "        self.fivetosevenVSseven.fit(data, target, progress=progress)\n",
    "        # model\n",
    "        data = X.copy()\n",
    "        target = y.copy()\n",
    "        mask_zeros = np.any((target == 0,), axis=0)\n",
    "        mask_ones = np.any((target == 1,), axis=0)\n",
    "        data = data[mask_zeros | mask_ones]\n",
    "        target[mask_zeros] = 0\n",
    "        target[mask_ones] = 1\n",
    "        target = target[mask_zeros | mask_ones]\n",
    "        self.zeroVSone = Neuron(self.loss, self.metrices, self.epochs, self.random_state.randint(0, 1000), self.learning_rate, self.batch_size)\n",
    "        self.zeroVSone.fit(data, target, progress=progress)\n",
    "        # model\n",
    "        data = X.copy()\n",
    "        target = y.copy()\n",
    "        mask_zeros = np.any((target == 3,), axis=0)\n",
    "        mask_ones = np.any((target == 4,), axis=0)\n",
    "        data = data[mask_zeros | mask_ones]\n",
    "        target[mask_zeros] = 0\n",
    "        target[mask_ones] = 1\n",
    "        target = target[mask_zeros | mask_ones]\n",
    "        self.threeVSfour = Neuron(self.loss, self.metrices, self.epochs, self.random_state.randint(0, 1000), self.learning_rate, self.batch_size)\n",
    "        self.threeVSfour.fit(data, target, progress=progress)\n",
    "        # model\n",
    "        data = X.copy()\n",
    "        target = y.copy()\n",
    "        mask_zeros = np.any((target == 5,), axis=0)\n",
    "        mask_ones = np.any((target == 6,), axis=0)\n",
    "        data = data[mask_zeros | mask_ones]\n",
    "        target[mask_zeros] = 0\n",
    "        target[mask_ones] = 1\n",
    "        target = target[mask_zeros | mask_ones]\n",
    "        self.fiveVSsix = Neuron(self.loss, self.metrices, self.epochs, self.random_state.randint(0, 1000), self.learning_rate, self.batch_size)\n",
    "        self.fiveVSsix.fit(data, target, progress=progress)\n",
    "        # model\n",
    "        data = X.copy()\n",
    "        target = y.copy()\n",
    "        mask_zeros = np.any((target == 8,), axis=0)\n",
    "        mask_ones = np.any((target == 9,), axis=0)\n",
    "        data = data[mask_zeros | mask_ones]\n",
    "        target[mask_zeros] = 0\n",
    "        target[mask_ones] = 1\n",
    "        target = target[mask_zeros | mask_ones]\n",
    "        self.eightVSnine = Neuron(self.loss, self.metrices, self.epochs, self.random_state.randint(0, 1000), self.learning_rate, self.batch_size)\n",
    "        self.eightVSnine.fit(data, target, progress=progress)\n",
    "\n",
    "    def predict_probbased(self, X):\n",
    "        probs = np.ones((len(X),10))\n",
    "        pred = self.zerotofiveVSfivetoten.predict(X)\n",
    "        probs[:,0:5] *= 1 - pred[:, np.newaxis]\n",
    "        probs[:,5:10] *= pred[:, np.newaxis]\n",
    "        pred = self.zerotothreeVSthreetofive.predict(X)\n",
    "        probs[:,0:3] *= 1 - pred[:, np.newaxis]\n",
    "        probs[:,3:5] *= pred[:, np.newaxis]\n",
    "        pred = self.fivetoeightVSeighttoten.predict(X)\n",
    "        probs[:,5:8] *= 1 - pred[:, np.newaxis]\n",
    "        probs[:,8:10] *= pred[:, np.newaxis]\n",
    "        pred = self.zerototwoVStwo.predict(X)\n",
    "        probs[:,0:2] *= 1 - pred[:, np.newaxis]\n",
    "        probs[:,2] *= pred\n",
    "        pred = self.fivetosevenVSseven.predict(X)\n",
    "        probs[:,5:7] *= 1 - pred[:, np.newaxis]\n",
    "        probs[:,7] *= pred\n",
    "        pred = self.zeroVSone.predict(X)\n",
    "        probs[:,0] *= 1 - pred\n",
    "        probs[:,1] *= pred\n",
    "        pred = self.threeVSfour.predict(X)\n",
    "        probs[:,3] *= 1 - pred\n",
    "        probs[:,4] *= pred\n",
    "        pred = self.fiveVSsix.predict(X)\n",
    "        probs[:,5] *= 1 - pred\n",
    "        probs[:,6] *= pred\n",
    "        pred = self.eightVSnine.predict(X)\n",
    "        probs[:,8] *= 1 - pred\n",
    "        probs[:,9] *= pred\n",
    "        return np.argmax(probs, axis=1)\n",
    "    \n",
    "    def predict_direct(self, X):\n",
    "        result = np.ones((len(X),)) * -1\n",
    "        pred1 = self.zerotofiveVSfivetoten.predict(X)\n",
    "        pred2 = self.zerotothreeVSthreetofive.predict(X)\n",
    "        pred3 = self.fivetoeightVSeighttoten.predict(X)\n",
    "        pred4 = self.zerototwoVStwo.predict(X)\n",
    "        pred5 = self.fivetosevenVSseven.predict(X)\n",
    "        pred6 = self.zeroVSone.predict(X)\n",
    "        pred7 = self.threeVSfour.predict(X)\n",
    "        pred8 = self.fiveVSsix.predict(X)\n",
    "        pred9 = self.eightVSnine.predict(X)\n",
    "        result[np.all([pred1 < 0.5, pred2 < 0.5, pred4 < 0.5, pred6 < 0.5], axis=0)] = 0\n",
    "        result[np.all([pred1 < 0.5, pred2 < 0.5, pred4 < 0.5, pred6 >= 0.5], axis=0)] = 1\n",
    "        result[np.all([pred1 < 0.5, pred2 < 0.5, pred4 >= 0.5], axis=0)] = 2\n",
    "        result[np.all([pred1 < 0.5, pred2 >= 0.5, pred7 < 0.5], axis=0)] = 3\n",
    "        result[np.all([pred1 < 0.5, pred2 >= 0.5, pred7 >= 0.5], axis=0)] = 4\n",
    "        result[np.all([pred1 >= 0.5, pred3 < 0.5, pred5 < 0.5, pred8 < 0.5], axis=0)] = 5\n",
    "        result[np.all([pred1 >= 0.5, pred3 < 0.5, pred5 < 0.5, pred8 >= 0.5], axis=0)] = 6\n",
    "        result[np.all([pred1 >= 0.5, pred3 < 0.5, pred5 >= 0.5], axis=0)] = 7\n",
    "        result[np.all([pred1 >= 0.5, pred3 >= 0.5, pred9 < 0.5], axis=0)] = 8\n",
    "        result[np.all([pred1 >= 0.5, pred3 >= 0.5, pred9 >= 0.5], axis=0)] = 9\n",
    "        return result"
   ]
  },
  {
   "cell_type": "code",
   "execution_count": 155,
   "metadata": {},
   "outputs": [
    {
     "name": "stderr",
     "output_type": "stream",
     "text": [
      "100% (400 of 400) |######################| Elapsed Time: 0:02:35 Time:  0:02:35\n",
      "100% (400 of 400) |######################| Elapsed Time: 0:01:51 Time:  0:01:51\n",
      "100% (400 of 400) |######################| Elapsed Time: 0:01:49 Time:  0:01:49\n",
      "100% (400 of 400) |######################| Elapsed Time: 0:01:36 Time:  0:01:36\n",
      "100% (400 of 400) |######################| Elapsed Time: 0:01:32 Time:  0:01:32\n",
      "100% (400 of 400) |######################| Elapsed Time: 0:00:53 Time:  0:00:53\n",
      "100% (400 of 400) |######################| Elapsed Time: 0:00:45 Time:  0:00:45\n",
      "100% (400 of 400) |######################| Elapsed Time: 0:00:52 Time:  0:00:52\n",
      "100% (400 of 400) |######################| Elapsed Time: 0:01:14 Time:  0:01:14\n"
     ]
    }
   ],
   "source": [
    "tree = TreeInOrder(BCELoss(), epochs=400, learning_rate=0.001, batch_size=128, random_state=42)\n",
    "tree.fit(train_data, train_target, progress=True)"
   ]
  },
  {
   "cell_type": "code",
   "execution_count": 156,
   "metadata": {},
   "outputs": [],
   "source": [
    "train_predictions = tree.predict_probbased(train_data)\n",
    "test_predictions = tree.predict_probbased(test_data)"
   ]
  },
  {
   "cell_type": "code",
   "execution_count": 157,
   "metadata": {},
   "outputs": [],
   "source": [
    "train_acc = sklearn.metrics.accuracy_score(train_target, train_predictions)\n",
    "test_acc = sklearn.metrics.accuracy_score(test_target, test_predictions)"
   ]
  },
  {
   "cell_type": "code",
   "execution_count": 158,
   "metadata": {},
   "outputs": [
    {
     "name": "stdout",
     "output_type": "stream",
     "text": [
      "Train accuracy: 0.8295102040816327, Test accuracy: 0.814952380952381\n"
     ]
    }
   ],
   "source": [
    "print(f\"Train accuracy: {train_acc}, Test accuracy: {test_acc}\")"
   ]
  },
  {
   "cell_type": "code",
   "execution_count": null,
   "metadata": {},
   "outputs": [],
   "source": []
  },
  {
   "cell_type": "code",
   "execution_count": 159,
   "metadata": {},
   "outputs": [],
   "source": [
    "train_predictions = tree.predict_direct(train_data)\n",
    "test_predictions = tree.predict_direct(test_data)"
   ]
  },
  {
   "cell_type": "code",
   "execution_count": 160,
   "metadata": {},
   "outputs": [],
   "source": [
    "train_acc = sklearn.metrics.accuracy_score(train_target, train_predictions)\n",
    "test_acc = sklearn.metrics.accuracy_score(test_target, test_predictions)"
   ]
  },
  {
   "cell_type": "code",
   "execution_count": 161,
   "metadata": {},
   "outputs": [
    {
     "name": "stdout",
     "output_type": "stream",
     "text": [
      "Train accuracy: 0.818530612244898, Test accuracy: 0.8069047619047619\n"
     ]
    }
   ],
   "source": [
    "print(f\"Train accuracy: {train_acc}, Test accuracy: {test_acc}\")"
   ]
  },
  {
   "cell_type": "markdown",
   "metadata": {},
   "source": [
    "# One-to-rest"
   ]
  },
  {
   "cell_type": "markdown",
   "metadata": {},
   "source": [
    "# Softmax"
   ]
  }
 ],
 "metadata": {
  "kernelspec": {
   "display_name": "Python 3",
   "language": "python",
   "name": "python3"
  },
  "language_info": {
   "codemirror_mode": {
    "name": "ipython",
    "version": 3
   },
   "file_extension": ".py",
   "mimetype": "text/x-python",
   "name": "python",
   "nbconvert_exporter": "python",
   "pygments_lexer": "ipython3",
   "version": "3.7.8"
  }
 },
 "nbformat": 4,
 "nbformat_minor": 4
}
